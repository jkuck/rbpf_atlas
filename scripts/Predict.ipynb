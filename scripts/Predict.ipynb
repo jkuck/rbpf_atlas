{
 "cells": [
  {
   "cell_type": "markdown",
   "metadata": {},
   "source": [
    "# TODO:\n",
    "This seems to work pretty well. We may want to retrain the the LSTM with more hidden units. I've saved the current model."
   ]
  },
  {
   "cell_type": "code",
   "execution_count": 1,
   "metadata": {
    "collapsed": true
   },
   "outputs": [],
   "source": [
    "%matplotlib inline\n",
    "\n",
    "import matplotlib\n",
    "import numpy as np\n",
    "import matplotlib.pyplot as plt\n",
    "import json"
   ]
  },
  {
   "cell_type": "code",
   "execution_count": 2,
   "metadata": {
    "collapsed": false
   },
   "outputs": [],
   "source": [
    "tracks = json.load(open(\"../data/groundtruth_tracks.json\"))"
   ]
  },
  {
   "cell_type": "code",
   "execution_count": 3,
   "metadata": {
    "collapsed": false
   },
   "outputs": [
    {
     "name": "stderr",
     "output_type": "stream",
     "text": [
      "Using Theano backend.\n"
     ]
    }
   ],
   "source": [
    "import pandas\n",
    "import math\n",
    "from keras.models import Sequential\n",
    "from keras.layers import Dense\n",
    "from keras.layers import LSTM\n",
    "from sklearn.preprocessing import MinMaxScaler\n",
    "from sklearn.metrics import mean_squared_error"
   ]
  },
  {
   "cell_type": "code",
   "execution_count": 46,
   "metadata": {
    "collapsed": false
   },
   "outputs": [],
   "source": [
    "def buildLookbackDataset(tracks, lookback=3, skip=None):\n",
    "    dataset = []\n",
    "    for key, track in tracks.items():\n",
    "        if skip:\n",
    "            filename = \"%04d.txt\" % skip\n",
    "            if filename in key:\n",
    "                continue\n",
    "        for i, pos in enumerate(track):\n",
    "            if i < lookback:\n",
    "                continue\n",
    "            dataset.append(np.array(track[i-lookback:i+1]).ravel())\n",
    "    return dataset\n",
    "                \n",
    "dataset = buildLookbackDataset(tracks) \n",
    "dataset = np.array(dataset)\n",
    "# each row in the dataset is the x1, x2, y1, y2 \n",
    "# where x1, x2 are the coordinate of previous position and y1,y2 are \n",
    "# coordinates of the next position or the location that should be predicted"
   ]
  },
  {
   "cell_type": "code",
   "execution_count": 52,
   "metadata": {
    "collapsed": false
   },
   "outputs": [],
   "source": [
    "dataset = buildLookbackDataset(tracks) \n",
    "dataset = np.array(dataset)\n",
    "origdataset = dataset"
   ]
  },
  {
   "cell_type": "code",
   "execution_count": 53,
   "metadata": {
    "collapsed": false
   },
   "outputs": [],
   "source": [
    "scaler = MinMaxScaler(feature_range=(0, 1))\n",
    "dataset = scaler.fit_transform(dataset)"
   ]
  },
  {
   "cell_type": "code",
   "execution_count": 54,
   "metadata": {
    "collapsed": true
   },
   "outputs": [],
   "source": [
    "model = Sequential()\n",
    "model.add(LSTM(32, input_shape=(3,2)))\n",
    "model.add(Dense(2))\n",
    "model.compile(loss='mean_squared_error', optimizer='adam')\n",
    "model.load_weights('window3_32h_weights.h5')"
   ]
  },
  {
   "cell_type": "code",
   "execution_count": 12,
   "metadata": {
    "collapsed": false
   },
   "outputs": [
    {
     "name": "stdout",
     "output_type": "stream",
     "text": [
      "[ 777.654416  165.681078  781.156791  165.186175  784.809185  164.670002]\n"
     ]
    }
   ],
   "source": [
    "datapoint =  origdataset[0, :6]\n",
    "print datapoint"
   ]
  },
  {
   "cell_type": "code",
   "execution_count": 18,
   "metadata": {
    "collapsed": false
   },
   "outputs": [
    {
     "name": "stdout",
     "output_type": "stream",
     "text": [
      "[ 777.654416  165.681078  781.156791  165.186175  784.809185  164.670002\n",
      "  777.654416  165.681078]\n",
      "[[ 0.62446123  0.09930999  0.62646688  0.09784558  0.62939047  0.09337126\n",
      "   0.62420121  0.10217015]]\n"
     ]
    }
   ],
   "source": [
    "cat = np.concatenate((datapoint, datapoint[:2]))\n",
    "scaled = scaler.transform(np.matrix(cat).reshape(1,8))"
   ]
  },
  {
   "cell_type": "code",
   "execution_count": 28,
   "metadata": {
    "collapsed": false
   },
   "outputs": [
    {
     "name": "stdout",
     "output_type": "stream",
     "text": [
      "[ 0.62446123  0.09930999  0.62646688  0.09784558  0.62939047  0.09337126]\n",
      "[[ 0.63309491  0.09542078]]\n"
     ]
    }
   ],
   "source": [
    "scaled = scaled.reshape((8,))[:6]\n",
    "print scaled\n",
    "prediction = model.predict(scaled.reshape(1,3,2))\n",
    "print prediction"
   ]
  },
  {
   "cell_type": "code",
   "execution_count": 31,
   "metadata": {
    "collapsed": false
   },
   "outputs": [],
   "source": [
    "back = scaler.inverse_transform(np.concatenate((scaled, prediction.ravel())).reshape(1,8))"
   ]
  },
  {
   "cell_type": "code",
   "execution_count": 35,
   "metadata": {
    "collapsed": false
   },
   "outputs": [
    {
     "name": "stdout",
     "output_type": "stream",
     "text": [
      "[ 788.5699325   164.61939434]\n"
     ]
    }
   ],
   "source": [
    "print back.ravel()[6:]"
   ]
  },
  {
   "cell_type": "code",
   "execution_count": 55,
   "metadata": {
    "collapsed": true
   },
   "outputs": [],
   "source": [
    "varmodel = Sequential()\n",
    "varmodel.add(LSTM(32, input_shape=(4,2)))\n",
    "varmodel.add(Dense(2))\n",
    "varmodel.compile(loss='mean_squared_error', optimizer='adam')\n",
    "varmodel.load_weights('variance_32h_weights.h5')"
   ]
  },
  {
   "cell_type": "code",
   "execution_count": 68,
   "metadata": {
    "collapsed": false
   },
   "outputs": [],
   "source": [
    "def buildVarDataset(tracks, predTracks, variance, lookback=3):\n",
    "    dataset = []\n",
    "    for key, track in tracks.items():\n",
    "        for i, pos in enumerate(track):\n",
    "            if i < lookback:\n",
    "                continue\n",
    "            gt = np.array(track[i-lookback:i]).ravel()\n",
    "            pred = np.array(predTracks[key][i])\n",
    "            var = np.array(variance[key][i])\n",
    "            row = np.concatenate((gt, pred, var))\n",
    "            dataset.append(row)\n",
    "    return dataset\n",
    "                \n",
    "origvardataset = buildVarDataset(tracks, predictedTracks, vs) \n",
    "origvardataset = np.array(origvardataset)"
   ]
  },
  {
   "cell_type": "code",
   "execution_count": 69,
   "metadata": {
    "collapsed": false
   },
   "outputs": [
    {
     "ename": "NameError",
     "evalue": "name 'scaled' is not defined",
     "output_type": "error",
     "traceback": [
      "\u001b[0;31m---------------------------------------------------------------------------\u001b[0m",
      "\u001b[0;31mNameError\u001b[0m                                 Traceback (most recent call last)",
      "\u001b[0;32m<ipython-input-69-d1936880454e>\u001b[0m in \u001b[0;36m<module>\u001b[0;34m()\u001b[0m\n\u001b[0;32m----> 1\u001b[0;31m \u001b[0mout\u001b[0m \u001b[0;34m=\u001b[0m \u001b[0mvarmodel\u001b[0m\u001b[0;34m.\u001b[0m\u001b[0mpredict\u001b[0m\u001b[0;34m(\u001b[0m\u001b[0mnp\u001b[0m\u001b[0;34m.\u001b[0m\u001b[0mconcatenate\u001b[0m\u001b[0;34m(\u001b[0m\u001b[0;34m(\u001b[0m\u001b[0mscaled\u001b[0m\u001b[0;34m,\u001b[0m\u001b[0mprediction\u001b[0m\u001b[0;34m.\u001b[0m\u001b[0mravel\u001b[0m\u001b[0;34m(\u001b[0m\u001b[0;34m)\u001b[0m\u001b[0;34m)\u001b[0m\u001b[0;34m)\u001b[0m\u001b[0;34m.\u001b[0m\u001b[0mreshape\u001b[0m\u001b[0;34m(\u001b[0m\u001b[0;36m1\u001b[0m\u001b[0;34m,\u001b[0m\u001b[0;36m4\u001b[0m\u001b[0;34m,\u001b[0m\u001b[0;36m2\u001b[0m\u001b[0;34m)\u001b[0m\u001b[0;34m)\u001b[0m\u001b[0;34m\u001b[0m\u001b[0m\n\u001b[0m\u001b[1;32m      2\u001b[0m \u001b[0;32mprint\u001b[0m \u001b[0mout\u001b[0m\u001b[0;34m\u001b[0m\u001b[0m\n",
      "\u001b[0;31mNameError\u001b[0m: name 'scaled' is not defined"
     ]
    }
   ],
   "source": [
    "out = varmodel.predict(np.concatenate((scaled,prediction.ravel())).reshape(1,4,2))\n",
    "print out"
   ]
  },
  {
   "cell_type": "code",
   "execution_count": 13,
   "metadata": {
    "collapsed": false
   },
   "outputs": [
    {
     "name": "stdout",
     "output_type": "stream",
     "text": [
      "(25002, 10)\n"
     ]
    }
   ],
   "source": [
    "origvardataset[:,8] = origvardataset[:,8].clip(0,100)\n",
    "origvardataset[:,9] = origvardataset[:,9].clip(0,5)\n",
    "#varscaler = MinMaxScaler(feature_range=(0, 1))\n",
    "#vardataset = varscaler.fit_transform(origvardataset)\n",
    "vardataset = varscaler.transform(origvardataset)\n",
    "print vardataset.shape"
   ]
  },
  {
   "cell_type": "code",
   "execution_count": 82,
   "metadata": {
    "collapsed": false
   },
   "outputs": [
    {
     "name": "stdout",
     "output_type": "stream",
     "text": [
      "[ 76.66875124   0.77294335]\n"
     ]
    }
   ],
   "source": [
    "oldvals = np.concatenate((scaled,prediction.ravel()))\n",
    "newval = np.concatenate((oldvals, out.ravel()))\n",
    "var = varscaler.inverse_transform(newval.reshape(1,10))\n",
    "print var.ravel()[8:]"
   ]
  },
  {
   "cell_type": "code",
   "execution_count": 78,
   "metadata": {
    "collapsed": false
   },
   "outputs": [
    {
     "data": {
      "text/plain": [
       "array([ 781.156791  ,  165.186175  ,  784.809185  ,  164.670002  ,\n",
       "        788.6214485 ,  164.131158  ,  793.67494014,  165.24254523,\n",
       "          1.14624034,    2.80371325])"
      ]
     },
     "execution_count": 78,
     "metadata": {},
     "output_type": "execute_result"
    }
   ],
   "source": [
    "#plt.hist(origvardataset[:,8].clip(0,100))\n",
    "#print max(origvardataset[:,8])\n",
    "origvardataset[1,:]"
   ]
  },
  {
   "cell_type": "code",
   "execution_count": null,
   "metadata": {
    "collapsed": true
   },
   "outputs": [],
   "source": []
  },
  {
   "cell_type": "code",
   "execution_count": 9,
   "metadata": {
    "collapsed": true
   },
   "outputs": [],
   "source": [
    "# import pickle\n",
    "# with open('scaler.pickle', 'w') as handle:\n",
    "#     pickle.dump(scaler, handle)\n",
    "# with open('varscaler.pickle', 'w') as handle:\n",
    "#     pickle.dump(varscaler, handle)\n",
    "import pickle\n",
    "with open('scaler.pickle', 'r')  as handle:\n",
    "    scaler = pickle.load(handle)\n",
    "with open('varscaler.pickle', 'r')  as handle:\n",
    "    varscaler = pickle.load(handle)   "
   ]
  },
  {
   "cell_type": "code",
   "execution_count": 77,
   "metadata": {
    "collapsed": false
   },
   "outputs": [],
   "source": [
    "# scaler = None\n",
    "# with open('varscaler.pickle', 'r') as handle:\n",
    "#     newscaler = pickle.load(handle)\n",
    "# var = newscaler.inverse_transform(newval.reshape(1,10))\n"
   ]
  },
  {
   "cell_type": "code",
   "execution_count": 78,
   "metadata": {
    "collapsed": false
   },
   "outputs": [
    {
     "name": "stdout",
     "output_type": "stream",
     "text": [
      "[[  7.77654416e+02   1.65681078e+02   7.81156791e+02   1.65186175e+02\n",
      "    7.84809185e+02   1.64670002e+02   7.98830012e+02   1.63319806e+02\n",
      "    7.66687512e+01   7.72943349e-01]]\n"
     ]
    }
   ],
   "source": [
    "print var"
   ]
  },
  {
   "cell_type": "code",
   "execution_count": 15,
   "metadata": {
    "collapsed": true
   },
   "outputs": [],
   "source": [
    "pred = varmodel.predict(vardataset[:,:8].reshape((vardataset.shape[0], 4,2)))"
   ]
  },
  {
   "cell_type": "code",
   "execution_count": 20,
   "metadata": {
    "collapsed": false
   },
   "outputs": [
    {
     "name": "stdout",
     "output_type": "stream",
     "text": [
      "(25002, 8)\n",
      "(25002, 2)\n"
     ]
    }
   ],
   "source": [
    "descale = varscaler.inverse_transform(np.concatenate((vardataset[:,:8], pred), axis=1))"
   ]
  },
  {
   "cell_type": "code",
   "execution_count": 21,
   "metadata": {
    "collapsed": true
   },
   "outputs": [],
   "source": [
    "var = descale[:,8:]"
   ]
  },
  {
   "cell_type": "code",
   "execution_count": 33,
   "metadata": {
    "collapsed": false
   },
   "outputs": [
    {
     "name": "stdout",
     "output_type": "stream",
     "text": [
      "21306\n",
      "12886\n",
      "19735\n",
      "7416\n"
     ]
    }
   ],
   "source": [
    "print np.argmin(var[:,0])\n",
    "print np.argmax(var[:,0])\n",
    "print np.argmin(var[:,1])\n",
    "print np.argmax(var[:,1])"
   ]
  },
  {
   "cell_type": "code",
   "execution_count": 51,
   "metadata": {
    "collapsed": false
   },
   "outputs": [
    {
     "name": "stdout",
     "output_type": "stream",
     "text": [
      "[-13.60166071   0.33259839]\n",
      "[ 589.1407725   180.1306175   589.3754175   183.678872    589.617292\n",
      "  187.3364965   590.33045652  189.63403969    0.51297392    0.03008844]\n"
     ]
    }
   ],
   "source": [
    "print var[21305,:]\n",
    "np.set_printoptions(suppress=True)\n",
    "print origvardataset[21305,:]"
   ]
  },
  {
   "cell_type": "code",
   "execution_count": 66,
   "metadata": {
    "collapsed": false
   },
   "outputs": [
    {
     "data": {
      "text/plain": [
       "(u'0020.txt133',\n",
       " [(0.0, 0.0),\n",
       "  (0.0, 0.0),\n",
       "  (0.0, 0.0),\n",
       "  (3.0731353789843903, 0.19380354646002274),\n",
       "  (0.77098745983430539, 0.018688544273664107),\n",
       "  (2.6359845230958387, 0.10890173980198209),\n",
       "  (3.2944825075986301, 0.089760745117856172),\n",
       "  (3.3652293856267756, 0.088174566461246079),\n",
       "  (3.4373288276548282, 0.086622049905947879),\n",
       "  (2.7016426415275103, 0.42643340128429152),\n",
       "  (3.4478890941705229, 0.18788119957221205),\n",
       "  (3.4000519837966805, 0.20880778818693291),\n",
       "  (1.0574257787920327, 0.053048716797801682),\n",
       "  (3.1344880633369661, 0.038226491076497657),\n",
       "  (4.1509724897365388, 0.019798403731948928),\n",
       "  (2.1555231757146434, 0.0067075205222854369),\n",
       "  (4.1385748991622044, 0.010391235380134572),\n",
       "  (4.7444546380933419, 0.0066553026161447603),\n",
       "  (4.9455525419531572, 0.0051406867961341215),\n",
       "  (5.1522855543030408, 0.0038620508509932027)])"
      ]
     },
     "execution_count": 66,
     "metadata": {},
     "output_type": "execute_result"
    }
   ],
   "source": [
    "vs.items()[0]"
   ]
  },
  {
   "cell_type": "code",
   "execution_count": 67,
   "metadata": {
    "collapsed": false
   },
   "outputs": [
    {
     "data": {
      "text/plain": [
       "[([639.429729, 187.9369475], [639.429729, 187.9369475]),\n",
       " ([641.9222775000001, 187.7700285], [641.9222775000001, 187.7700285]),\n",
       " ([644.405984, 187.6036785], [644.405984, 187.6036785]),\n",
       " ([646.880898, 187.4378945], array([ 648.63393405,  187.87812574])),\n",
       " ([650.2231465, 187.5841825], array([ 651.10120542,  187.72088855])),\n",
       " ([653.549808, 187.729774], array([ 655.17337953,  188.05977664])),\n",
       " ([656.860994, 187.874675], array([ 658.67606494,  188.17427598])),\n",
       " ([660.15681, 188.0188895], array([ 661.99126616,  188.31583153])),\n",
       " ([663.4373654999999, 188.1624235], array([ 665.29136896,  188.45673974])),\n",
       " ([666.9328525000001, 187.94399349999998],\n",
       "  array([ 668.57651994,  188.59701218])),\n",
       " ([670.40427, 187.72706749999998], array([ 672.26111924,  188.16052015])),\n",
       " ([673.8518655, 187.511631], array([ 675.69578849,  187.96858591])),\n",
       " ([678.095989, 187.995295], array([ 679.1243011 ,  187.76497193])),\n",
       " ([682.3111895, 188.478441], array([ 684.08163805,  188.67395696])),\n",
       " ([686.4977635, 188.9583815], array([ 688.53515705,  189.0990883 ])),\n",
       " ([691.265079, 189.483264], array([ 692.73324901,  189.56516345])),\n",
       " ([695.9959515, 190.0042115], array([ 698.03030027,  190.10614891])),\n",
       " ([700.6907985, 190.5212675], array([ 702.86897541,  190.60284754])),\n",
       " ([705.3500305, 191.0344735], array([ 707.57389033,  191.10617208])),\n",
       " ([709.974053, 191.5438695], array([ 712.24391766,  191.6060149 ]))]"
      ]
     },
     "execution_count": 67,
     "metadata": {},
     "output_type": "execute_result"
    }
   ],
   "source": [
    "zip(tracks['0020.txt133'], predictedTracks['0020.txt133'])"
   ]
  },
  {
   "cell_type": "code",
   "execution_count": null,
   "metadata": {
    "collapsed": true
   },
   "outputs": [],
   "source": []
  },
  {
   "cell_type": "code",
   "execution_count": 65,
   "metadata": {
    "collapsed": true
   },
   "outputs": [],
   "source": [
    "def mle_var(tracks, predTracks):\n",
    "    variances = {}\n",
    "    x = []\n",
    "    y = []\n",
    "    for (key, track) in tracks.items():\n",
    "        variances[key] = []\n",
    "        for j, point in enumerate(track):\n",
    "            x = ((point[0] - predictedTracks[key][j][0])**2)\n",
    "            y = ((point[1] - predictedTracks[key][j][1])**2)\n",
    "            variances[key].append((x,y))\n",
    "    return variances\n",
    "vs = mle_var(tracks, predictedTracks)"
   ]
  },
  {
   "cell_type": "code",
   "execution_count": 64,
   "metadata": {
    "collapsed": true
   },
   "outputs": [],
   "source": [
    "def rebuildTracks(tracks, model):\n",
    "    predTracks = {}\n",
    "    for track in tracks.items():\n",
    "        predTracks[track[0]] = []\n",
    "        t = predTracks[track[0]]\n",
    "        for i, pos in enumerate(track[1]):\n",
    "            if i < 3:\n",
    "                t.append(pos)\n",
    "            else:\n",
    "                # scale and resize\n",
    "                p1 = track[1][i-3]\n",
    "                p2 = track[1][i-2]\n",
    "                p3 = track[1][i-1]\n",
    "                p = scaler.transform(np.array(p1+p2+p3+p3).reshape(1,-1))[0][0:6].reshape(1,3,2)\n",
    "                # predict\n",
    "                pred = model.predict(p).reshape(1,2).tolist()\n",
    "                pred = scaler.inverse_transform(np.array(pred[0]+pred[0]+pred[0]+pred[0])\\\n",
    "                                                .reshape(1,-1))[0][0:2]\n",
    "                t.append(pred)\n",
    "    return predTracks\n",
    "predictedTracks = rebuildTracks(tracks,model)"
   ]
  },
  {
   "cell_type": "code",
   "execution_count": 32,
   "metadata": {
    "collapsed": false
   },
   "outputs": [
    {
     "name": "stdout",
     "output_type": "stream",
     "text": [
      "(16751, 8251)\n"
     ]
    }
   ],
   "source": [
    "# Split into test and train\n",
    "train_size = int(len(dataset) * 0.67)\n",
    "test_size = len(dataset) - train_size\n",
    "train, test = dataset[0:train_size,:], dataset[train_size:len(dataset),:]\n",
    "print(len(train), len(test))"
   ]
  },
  {
   "cell_type": "code",
   "execution_count": 33,
   "metadata": {
    "collapsed": false
   },
   "outputs": [],
   "source": [
    "xtrain = np.matrix(train[:,0:6])\n",
    "ytrain = np.matrix(train[:,6:])\n",
    "xtest = np.matrix(test[:,0:6])\n",
    "ytest = np.matrix(test[:,6:])"
   ]
  },
  {
   "cell_type": "code",
   "execution_count": 34,
   "metadata": {
    "collapsed": false
   },
   "outputs": [],
   "source": [
    "# reshape input to be [samples, time steps, features]\n",
    "xtrain = np.reshape(np.array(xtrain), (xtrain.shape[0], 3, 2))\n",
    "xtest = np.reshape(np.array(xtest), (xtest.shape[0], 3, 2))"
   ]
  },
  {
   "cell_type": "code",
   "execution_count": 35,
   "metadata": {
    "collapsed": false
   },
   "outputs": [
    {
     "data": {
      "text/plain": [
       "(3, 2)"
      ]
     },
     "execution_count": 35,
     "metadata": {},
     "output_type": "execute_result"
    }
   ],
   "source": [
    "xtrain[0].shape\n"
   ]
  },
  {
   "cell_type": "code",
   "execution_count": 123,
   "metadata": {
    "collapsed": false
   },
   "outputs": [
    {
     "name": "stdout",
     "output_type": "stream",
     "text": [
      "Epoch 1/10\n",
      "22s - loss: 8.4490e-04\n",
      "Epoch 2/10\n",
      "31s - loss: 1.2574e-04\n",
      "Epoch 3/10\n",
      "29s - loss: 9.4804e-05\n",
      "Epoch 4/10\n",
      "27s - loss: 8.7904e-05\n",
      "Epoch 5/10\n",
      "25s - loss: 8.2156e-05\n",
      "Epoch 6/10\n",
      "25s - loss: 7.9009e-05\n",
      "Epoch 7/10\n",
      "27s - loss: 7.5314e-05\n",
      "Epoch 8/10\n",
      "30s - loss: 7.3245e-05\n",
      "Epoch 9/10\n",
      "22s - loss: 7.0216e-05\n",
      "Epoch 10/10\n",
      "22s - loss: 6.8170e-05\n"
     ]
    }
   ],
   "source": [
    "\n",
    "model = Sequential()\n",
    "model.add(LSTM(32, input_shape=(3,2)))\n",
    "model.add(Dense(2))\n",
    "model.compile(loss='mean_squared_error', optimizer='adam')\n",
    "if True:\n",
    "    model.fit(xtrain, ytrain, nb_epoch=10, batch_size=1, verbose=2)\n",
    "else:\n",
    "    model.load_weights('window3_weights.h5')\n"
   ]
  },
  {
   "cell_type": "code",
   "execution_count": 124,
   "metadata": {
    "collapsed": false
   },
   "outputs": [
    {
     "name": "stdout",
     "output_type": "stream",
     "text": [
      "Train Score: 0.0072513 RMSE\n",
      "Test Score: 0.0064826 RMSE\n"
     ]
    }
   ],
   "source": [
    "trainPredict = model.predict(xtrain)\n",
    "testPredict = model.predict(xtest)\n",
    "# invert predictions\n",
    "#trainPredict = scaler.inverse_transform(np.concatenate((xtrain.reshape(xtrain.shape[0], xtrain.shape[2]),trainPredict), axis=1))[:,2:]\n",
    "#trainY = scaler.inverse_transform([trainY])\n",
    "#testPredict = scaler.inverse_transform(testPredict)\n",
    "#testY = scaler.inverse_transform([testY])\n",
    "# calculate root mean squared error\n",
    "\n",
    "trainScore = math.sqrt(mean_squared_error(ytrain, trainPredict))\n",
    "print('Train Score: %.7f RMSE' % (trainScore))\n",
    "testScore = math.sqrt(mean_squared_error(ytest, testPredict))\n",
    "print('Test Score: %.7f RMSE' % (testScore))"
   ]
  },
  {
   "cell_type": "code",
   "execution_count": 14,
   "metadata": {
    "collapsed": false
   },
   "outputs": [
    {
     "ename": "NameError",
     "evalue": "name 'ytrain' is not defined",
     "output_type": "error",
     "traceback": [
      "\u001b[0;31m---------------------------------------------------------------------------\u001b[0m",
      "\u001b[0;31mNameError\u001b[0m                                 Traceback (most recent call last)",
      "\u001b[0;32m<ipython-input-14-6b44449f119e>\u001b[0m in \u001b[0;36m<module>\u001b[0;34m()\u001b[0m\n\u001b[0;32m----> 1\u001b[0;31m \u001b[0mscaledPredictTrain\u001b[0m \u001b[0;34m=\u001b[0m \u001b[0mscaler\u001b[0m\u001b[0;34m.\u001b[0m\u001b[0minverse_transform\u001b[0m\u001b[0;34m(\u001b[0m\u001b[0mnp\u001b[0m\u001b[0;34m.\u001b[0m\u001b[0mconcatenate\u001b[0m\u001b[0;34m(\u001b[0m\u001b[0;34m(\u001b[0m\u001b[0mytrain\u001b[0m\u001b[0;34m,\u001b[0m\u001b[0mtrainPredict\u001b[0m\u001b[0;34m,\u001b[0m\u001b[0mytrain\u001b[0m\u001b[0;34m,\u001b[0m\u001b[0mtrainPredict\u001b[0m\u001b[0;34m)\u001b[0m\u001b[0;34m,\u001b[0m \u001b[0maxis\u001b[0m\u001b[0;34m=\u001b[0m\u001b[0;36m1\u001b[0m\u001b[0;34m)\u001b[0m\u001b[0;34m)\u001b[0m\u001b[0;34m\u001b[0m\u001b[0m\n\u001b[0m\u001b[1;32m      2\u001b[0m \u001b[0mscaledPredictTest\u001b[0m \u001b[0;34m=\u001b[0m \u001b[0mscaler\u001b[0m\u001b[0;34m.\u001b[0m\u001b[0minverse_transform\u001b[0m\u001b[0;34m(\u001b[0m\u001b[0mnp\u001b[0m\u001b[0;34m.\u001b[0m\u001b[0mconcatenate\u001b[0m\u001b[0;34m(\u001b[0m\u001b[0;34m(\u001b[0m\u001b[0mytest\u001b[0m\u001b[0;34m,\u001b[0m\u001b[0mtestPredict\u001b[0m\u001b[0;34m,\u001b[0m\u001b[0mytest\u001b[0m\u001b[0;34m,\u001b[0m\u001b[0mtestPredict\u001b[0m\u001b[0;34m)\u001b[0m\u001b[0;34m,\u001b[0m \u001b[0maxis\u001b[0m\u001b[0;34m=\u001b[0m\u001b[0;36m1\u001b[0m\u001b[0;34m)\u001b[0m\u001b[0;34m)\u001b[0m\u001b[0;34m\u001b[0m\u001b[0m\n\u001b[1;32m      3\u001b[0m \u001b[0mscaledyTrain\u001b[0m \u001b[0;34m=\u001b[0m \u001b[0mscaler\u001b[0m\u001b[0;34m.\u001b[0m\u001b[0minverse_transform\u001b[0m\u001b[0;34m(\u001b[0m\u001b[0mnp\u001b[0m\u001b[0;34m.\u001b[0m\u001b[0mconcatenate\u001b[0m\u001b[0;34m(\u001b[0m\u001b[0;34m(\u001b[0m\u001b[0mytrain\u001b[0m\u001b[0;34m,\u001b[0m\u001b[0mtrainPredict\u001b[0m\u001b[0;34m,\u001b[0m\u001b[0mytrain\u001b[0m\u001b[0;34m,\u001b[0m\u001b[0mytrain\u001b[0m\u001b[0;34m)\u001b[0m\u001b[0;34m,\u001b[0m \u001b[0maxis\u001b[0m\u001b[0;34m=\u001b[0m\u001b[0;36m1\u001b[0m\u001b[0;34m)\u001b[0m\u001b[0;34m)\u001b[0m\u001b[0;34m\u001b[0m\u001b[0m\n\u001b[1;32m      4\u001b[0m \u001b[0mscaledyTest\u001b[0m \u001b[0;34m=\u001b[0m \u001b[0mscaler\u001b[0m\u001b[0;34m.\u001b[0m\u001b[0minverse_transform\u001b[0m\u001b[0;34m(\u001b[0m\u001b[0mnp\u001b[0m\u001b[0;34m.\u001b[0m\u001b[0mconcatenate\u001b[0m\u001b[0;34m(\u001b[0m\u001b[0;34m(\u001b[0m\u001b[0mytest\u001b[0m\u001b[0;34m,\u001b[0m\u001b[0mtestPredict\u001b[0m\u001b[0;34m,\u001b[0m\u001b[0mytest\u001b[0m\u001b[0;34m,\u001b[0m\u001b[0mytest\u001b[0m\u001b[0;34m)\u001b[0m\u001b[0;34m,\u001b[0m \u001b[0maxis\u001b[0m\u001b[0;34m=\u001b[0m\u001b[0;36m1\u001b[0m\u001b[0;34m)\u001b[0m\u001b[0;34m)\u001b[0m\u001b[0;34m\u001b[0m\u001b[0m\n\u001b[1;32m      5\u001b[0m \u001b[0;34m\u001b[0m\u001b[0m\n",
      "\u001b[0;31mNameError\u001b[0m: name 'ytrain' is not defined"
     ]
    }
   ],
   "source": [
    "scaledPredictTrain = scaler.inverse_transform(np.concatenate((ytrain,trainPredict,ytrain,trainPredict), axis=1))\n",
    "scaledPredictTest = scaler.inverse_transform(np.concatenate((ytest,testPredict,ytest,testPredict), axis=1))\n",
    "scaledyTrain = scaler.inverse_transform(np.concatenate((ytrain,trainPredict,ytrain,ytrain), axis=1))\n",
    "scaledyTest = scaler.inverse_transform(np.concatenate((ytest,testPredict,ytest,ytest), axis=1))\n",
    "\n",
    "trainScore = math.sqrt(mean_squared_error(scaledyTrain[:,6:], scaledPredictTrain[:,6:]))\n",
    "print('Train Score: %.7f RMSE' % (trainScore))\n",
    "testScore = math.sqrt(mean_squared_error(scaledyTest[:,6:], scaledPredictTest[:,6:]))\n",
    "print('Test Score: %.7f RMSE' % (testScore))\n",
    "\n",
    "print ytrain.shape"
   ]
  },
  {
   "cell_type": "code",
   "execution_count": 126,
   "metadata": {
    "collapsed": false
   },
   "outputs": [
    {
     "name": "stdout",
     "output_type": "stream",
     "text": [
      "[777.654416, 165.681078]\n",
      "[781.156791, 165.186175]\n"
     ]
    }
   ],
   "source": [
    "#print model.predict(np.array(tracks.items()[0][1][0]).reshape(1,1,2))\n",
    "print tracks.items()[0][1][0]\n",
    "print tracks.items()[0][1][1]"
   ]
  },
  {
   "cell_type": "code",
   "execution_count": 127,
   "metadata": {
    "collapsed": false
   },
   "outputs": [
    {
     "name": "stdout",
     "output_type": "stream",
     "text": [
      "[[ 777.654416   165.681078   781.156791   165.186175   784.809185\n",
      "   164.670002   788.6214485  164.131158 ]]\n",
      "[[ 0.62446123  0.09930999  0.62646688  0.09784558  0.62939047  0.09337126\n",
      "   0.63313688  0.09231694]]\n"
     ]
    }
   ],
   "source": [
    "print np.array(tracks.items()[0][1][0]+tracks.items()[0][1][1]+tracks.items()[0][1][2]\\\n",
    "               +tracks.items()[0][1][3]).reshape(1,-1)\n",
    "orig_scale=np.array(tracks.items()[0][1][0]+tracks.items()[0][1][1]+tracks.items()[0][1][2]\\\n",
    "               +tracks.items()[0][1][3]).reshape(1,-1)\n",
    "l = scaler.transform(orig_scale)\n",
    "print l\n",
    "#x = l[0:2].reshape(1,1,2)\n",
    "#y = l[2:]"
   ]
  },
  {
   "cell_type": "code",
   "execution_count": 128,
   "metadata": {
    "collapsed": true
   },
   "outputs": [],
   "source": [
    "# Note this will predict the new point one frame ahead and build a track by \n",
    "# using measurements from the previous measurement.\n",
    "# The first prediction is exactly the first measurement\n",
    "# The last prediction is emitted because we know that the object is gone\n",
    "# but currently the model has no method for predicting the death of an object\n",
    "def rebuildTracks(tracks, model):\n",
    "    predTracks = {}\n",
    "    for track in tracks.items():\n",
    "        predTracks[track[0]] = []\n",
    "        t = predTracks[track[0]]\n",
    "        for i, pos in enumerate(track[1]):\n",
    "            if i < 3:\n",
    "                t.append(pos)\n",
    "            else:\n",
    "                # scale and resize\n",
    "                p1 = track[1][i-3]\n",
    "                p2 = track[1][i-2]\n",
    "                p3 = track[1][i-1]\n",
    "                p = scaler.transform(np.array(p1+p2+p3+p3).reshape(1,-1))[0][0:6].reshape(1,3,2)\n",
    "                # predict\n",
    "                pred = model.predict(p).reshape(1,2).tolist()\n",
    "                pred = scaler.inverse_transform(np.array(pred[0]+pred[0]+pred[0]+pred[0])\\\n",
    "                                                .reshape(1,-1))[0][6:]\n",
    "                t.append(pred)\n",
    "    return predTracks"
   ]
  },
  {
   "cell_type": "code",
   "execution_count": 129,
   "metadata": {
    "collapsed": false
   },
   "outputs": [],
   "source": [
    "predictedTracks = rebuildTracks(tracks,model)"
   ]
  },
  {
   "cell_type": "code",
   "execution_count": 130,
   "metadata": {
    "collapsed": true
   },
   "outputs": [],
   "source": [
    "def displayPredictedTracks(tracks,predictedTracks, k):\n",
    "    for i in np.random.choice(len(tracks.items()), k):\n",
    "        if i / float(len(tracks.items())) < .67:\n",
    "            print \"Training\"\n",
    "        else:\n",
    "            print \"Testing\"\n",
    "        print \"%d of %d\"% (i, len(tracks.items()))\n",
    "        key = tracks.items()[i][0]\n",
    "        track = np.array(tracks.items()[i][1])\n",
    "        t2 = np.array(predictedTracks[key])\n",
    "        plt.plot(track[0,0], -track[0,1], marker=\"x\")\n",
    "        plt.plot(track[:,0], -track[:,1], marker=\"o\", color='b')\n",
    "        plt.plot(t2[:,0], -t2[:,1], marker=\"s\", color='r')\n"
   ]
  },
  {
   "cell_type": "code",
   "execution_count": 144,
   "metadata": {
    "collapsed": false
   },
   "outputs": [
    {
     "name": "stdout",
     "output_type": "stream",
     "text": [
      "Training\n",
      "130 of 579\n"
     ]
    },
    {
     "data": {
      "image/png": "[encoded data removed]",
      "text/plain": [
       "<matplotlib.figure.Figure at 0x118fd5ad0>"
      ]
     },
     "metadata": {},
     "output_type": "display_data"
    }
   ],
   "source": [
    "displayPredictedTracks(tracks,predictedTracks, 1)"
   ]
  },
  {
   "cell_type": "code",
   "execution_count": 145,
   "metadata": {
    "collapsed": true
   },
   "outputs": [],
   "source": [
    "#model.save_weights('window3_32h_weights.h5')"
   ]
  },
  {
   "cell_type": "code",
   "execution_count": 108,
   "metadata": {
    "collapsed": false
   },
   "outputs": [
    {
     "data": {
      "text/plain": [
       "dict"
      ]
     },
     "execution_count": 108,
     "metadata": {},
     "output_type": "execute_result"
    }
   ],
   "source": [
    "#scaler.get_params()"
   ]
  },
  {
   "cell_type": "code",
   "execution_count": 109,
   "metadata": {
    "collapsed": true
   },
   "outputs": [],
   "source": [
    "#import pickle"
   ]
  },
  {
   "cell_type": "code",
   "execution_count": 110,
   "metadata": {
    "collapsed": true
   },
   "outputs": [],
   "source": [
    "#with open('scaler.pickle', 'wb') as handle:\n",
    "#    pickle.dump(scaler, handle)"
   ]
  },
  {
   "cell_type": "code",
   "execution_count": 49,
   "metadata": {
    "collapsed": false
   },
   "outputs": [],
   "source": [
    "def covariance(tracks, predTracks):\n",
    "    x = []\n",
    "    y = []\n",
    "    for (key, track) in tracks.items():\n",
    "        for j, point in enumerate(track):\n",
    "            x.append(point[0] - predictedTracks[key][j][0])\n",
    "            y.append(point[1] - predictedTracks[key][j][1])\n",
    "    x = np.matrix(x)\n",
    "    y = np.matrix(y)\n",
    "    m = np.concatenate((x,y), axis=0)\n",
    "    print np.var(x)\n",
    "    print np.var(y)\n",
    "    return np.cov(m)"
   ]
  },
  {
   "cell_type": "code",
   "execution_count": 50,
   "metadata": {
    "collapsed": false
   },
   "outputs": [
    {
     "name": "stdout",
     "output_type": "stream",
     "text": [
      "28.0064938099\n",
      "2.72131484714\n",
      "[[ 28.00751973  -0.93562177]\n",
      " [ -0.93562177   2.72141453]]\n"
     ]
    }
   ],
   "source": [
    "print covariance(tracks, predictedTracks)"
   ]
  }
 ],
 "metadata": {
  "kernelspec": {
   "display_name": "Python 2",
   "language": "python",
   "name": "python2"
  },
  "language_info": {
   "codemirror_mode": {
    "name": "ipython",
    "version": 2
   },
   "file_extension": ".py",
   "mimetype": "text/x-python",
   "name": "python",
   "nbconvert_exporter": "python",
   "pygments_lexer": "ipython2",
   "version": "2.7.11"
  }
 },
 "nbformat": 4,
 "nbformat_minor": 0
}
