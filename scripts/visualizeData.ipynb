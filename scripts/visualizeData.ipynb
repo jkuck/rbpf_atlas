{
 "cells": [
  {
   "cell_type": "code",
   "execution_count": 1,
   "metadata": {
    "collapsed": true
   },
   "outputs": [],
   "source": [
    "%matplotlib inline\n",
    "\n",
    "import matplotlib\n",
    "import numpy as np\n",
    "import matplotlib.pyplot as plt\n",
    "import json"
   ]
  },
  {
   "cell_type": "code",
   "execution_count": 2,
   "metadata": {
    "collapsed": true
   },
   "outputs": [],
   "source": [
    "tracks = json.load(open(\"../data/groundtruth_tracks.json\"))"
   ]
  },
  {
   "cell_type": "code",
   "execution_count": 3,
   "metadata": {
    "collapsed": false
   },
   "outputs": [
    {
     "data": {
      "image/png": "[encoded data removed]",
      "text/plain": [
       "<matplotlib.figure.Figure at 0x105d32450>"
      ]
     },
     "metadata": {},
     "output_type": "display_data"
    }
   ],
   "source": [
    "def displayTracks(tracks, k):\n",
    "    for i in np.random.choice(len(tracks.items()), k):\n",
    "        track = np.array(tracks.items()[i][1])\n",
    "        plt.plot(track[0,0], -track[0,1], marker=\"x\")\n",
    "        plt.plot(track[:,0], -track[:,1], marker=\"o\")\n",
    "displayTracks(tracks, 5)"
   ]
  },
  {
   "cell_type": "code",
   "execution_count": 4,
   "metadata": {
    "collapsed": false
   },
   "outputs": [
    {
     "name": "stderr",
     "output_type": "stream",
     "text": [
      "Using Theano backend.\n"
     ]
    }
   ],
   "source": [
    "import pandas\n",
    "import math\n",
    "from keras.models import Sequential\n",
    "from keras.layers import Dense\n",
    "from keras.layers import LSTM\n",
    "from sklearn.preprocessing import MinMaxScaler\n",
    "from sklearn.metrics import mean_squared_error"
   ]
  },
  {
   "cell_type": "code",
   "execution_count": 5,
   "metadata": {
    "collapsed": false
   },
   "outputs": [],
   "source": [
    "np.random.seed(7)"
   ]
  },
  {
   "cell_type": "code",
   "execution_count": 6,
   "metadata": {
    "collapsed": false
   },
   "outputs": [],
   "source": [
    "def buildDataset(tracks):\n",
    "    dataset = []\n",
    "    for key, track in tracks.items():\n",
    "        for i, pos in enumerate(track):\n",
    "            if i < len(track)-1:\n",
    "                dataset.append((tuple(pos + track[i+1])))\n",
    "    return dataset\n",
    "                \n",
    "dataset = buildDataset(tracks) \n",
    "# each row in the dataset is the x1, x2, y1, y2 \n",
    "# where x1, x2 are the coordinate of previous position and y1,y2 are \n",
    "# coordinates of the next position or the location that should be predicted"
   ]
  },
  {
   "cell_type": "code",
   "execution_count": 7,
   "metadata": {
    "collapsed": false
   },
   "outputs": [],
   "source": [
    "scaler = MinMaxScaler(feature_range=(0, 1))\n",
    "dataset = scaler.fit_transform(dataset)"
   ]
  },
  {
   "cell_type": "code",
   "execution_count": 8,
   "metadata": {
    "collapsed": false
   },
   "outputs": [
    {
     "name": "stdout",
     "output_type": "stream",
     "text": [
      "(17903, 8818)\n"
     ]
    }
   ],
   "source": [
    "# Split into test and train\n",
    "train_size = int(len(dataset) * 0.67)\n",
    "test_size = len(dataset) - train_size\n",
    "train, test = dataset[0:train_size,:], dataset[train_size:len(dataset),:]\n",
    "print(len(train), len(test))"
   ]
  },
  {
   "cell_type": "code",
   "execution_count": 9,
   "metadata": {
    "collapsed": false
   },
   "outputs": [],
   "source": [
    "xtrain = np.matrix(train[:,0:2])\n",
    "ytrain = np.matrix(train[:,2:])\n",
    "xtest = np.matrix(test[:,0:2])\n",
    "ytest = np.matrix(test[:,2:])"
   ]
  },
  {
   "cell_type": "code",
   "execution_count": 10,
   "metadata": {
    "collapsed": false
   },
   "outputs": [],
   "source": [
    "# reshape input to be [samples, time steps, features]\n",
    "xtrain = np.reshape(np.array(xtrain), (xtrain.shape[0], 1, xtrain.shape[1]))\n",
    "xtest = np.reshape(np.array(xtest), (xtest.shape[0], 1, xtest.shape[1]))"
   ]
  },
  {
   "cell_type": "code",
   "execution_count": 11,
   "metadata": {
    "collapsed": false
   },
   "outputs": [
    {
     "name": "stdout",
     "output_type": "stream",
     "text": [
      "[[ 0.62446123  0.10217015]]\n",
      "[[ 0.62740964  0.09628095]]\n"
     ]
    }
   ],
   "source": [
    "xsample = xtrain[0, :]\n",
    "ysample = ytrain[0,:]\n",
    "print xsample\n",
    "print ysample"
   ]
  },
  {
   "cell_type": "code",
   "execution_count": 12,
   "metadata": {
    "collapsed": false
   },
   "outputs": [],
   "source": [
    "xsample = np.array(xsample).reshape((1,1,2))\n"
   ]
  },
  {
   "cell_type": "code",
   "execution_count": 13,
   "metadata": {
    "collapsed": false
   },
   "outputs": [
    {
     "name": "stdout",
     "output_type": "stream",
     "text": [
      "Epoch 1/10\n",
      "29s - loss: 0.0067\n",
      "Epoch 2/10\n",
      "25s - loss: 2.0092e-04\n",
      "Epoch 3/10\n",
      "24s - loss: 1.8829e-04\n",
      "Epoch 4/10\n",
      "26s - loss: 1.8362e-04\n",
      "Epoch 5/10\n",
      "24s - loss: 1.8130e-04\n",
      "Epoch 6/10\n",
      "22s - loss: 1.7969e-04\n",
      "Epoch 7/10\n",
      "29s - loss: 1.8012e-04\n",
      "Epoch 8/10\n",
      "25s - loss: 1.8043e-04\n",
      "Epoch 9/10\n",
      "25s - loss: 1.8086e-04\n",
      "Epoch 10/10\n",
      "23s - loss: 1.7812e-04\n"
     ]
    },
    {
     "data": {
      "text/plain": [
       "<keras.callbacks.History at 0x11933cb50>"
      ]
     },
     "execution_count": 13,
     "metadata": {},
     "output_type": "execute_result"
    }
   ],
   "source": [
    "model = Sequential()\n",
    "model.add(LSTM(4, input_dim=2))\n",
    "model.add(Dense(2))\n",
    "model.compile(loss='mean_squared_error', optimizer='adam')\n",
    "model.fit(xtrain, ytrain, nb_epoch=10, batch_size=1, verbose=2)"
   ]
  },
  {
   "cell_type": "code",
   "execution_count": 14,
   "metadata": {
    "collapsed": false
   },
   "outputs": [
    {
     "name": "stdout",
     "output_type": "stream",
     "text": [
      "Train Score: 0.0132193 RMSE\n",
      "Test Score: 0.0129152 RMSE\n"
     ]
    }
   ],
   "source": [
    "trainPredict = model.predict(xtrain)\n",
    "testPredict = model.predict(xtest)\n",
    "# invert predictions\n",
    "#trainPredict = scaler.inverse_transform(np.concatenate((xtrain.reshape(xtrain.shape[0], xtrain.shape[2]),trainPredict), axis=1))[:,2:]\n",
    "#trainY = scaler.inverse_transform([trainY])\n",
    "#testPredict = scaler.inverse_transform(testPredict)\n",
    "#testY = scaler.inverse_transform([testY])\n",
    "# calculate root mean squared error\n",
    "trainScore = math.sqrt(mean_squared_error(ytrain, trainPredict))\n",
    "print('Train Score: %.7f RMSE' % (trainScore))\n",
    "testScore = math.sqrt(mean_squared_error(ytest, testPredict))\n",
    "print('Test Score: %.7f RMSE' % (testScore))"
   ]
  },
  {
   "cell_type": "code",
   "execution_count": 43,
   "metadata": {
    "collapsed": true
   },
   "outputs": [],
   "source": [
    "# Note this will predict the new point one frame ahead and build a track by \n",
    "# using measurements from the previous measurement.\n",
    "# The first prediction is exactly the first measurement\n",
    "# The last prediction is emitted because we know that the object is gone\n",
    "# but currently the model has no method for predicting the death of an object\n",
    "def rebuildTracks(tracks, model):\n",
    "    predTracks = {}\n",
    "    for track in tracks.items():\n",
    "        predTracks[track[0]] = []\n",
    "        t = predTracks[track[0]]\n",
    "        for i, pos in enumerate(track[1]):\n",
    "            if i == 0:\n",
    "                t.append(pos)\n",
    "            else:\n",
    "                # scale and resize\n",
    "                p = track[1][i-1]\n",
    "                p = scaler.transform(np.array(p+p).reshape(1,-1))[0][0:2].reshape(1,1,2)\n",
    "                # predict\n",
    "                pred = model.predict(p).reshape(1,2).tolist()\n",
    "                pred = scaler.inverse_transform(np.array(pred[0]+pred[0]).reshape(1,-1))[0][0:2]\n",
    "                t.append(pred)\n",
    "    return predTracks"
   ]
  },
  {
   "cell_type": "code",
   "execution_count": 44,
   "metadata": {
    "collapsed": false
   },
   "outputs": [],
   "source": [
    "predictedTracks = rebuildTracks(tracks,model)"
   ]
  },
  {
   "cell_type": "code",
   "execution_count": 60,
   "metadata": {
    "collapsed": true
   },
   "outputs": [],
   "source": [
    "def displayPredictedTracks(tracks,predictedTracks, k):\n",
    "    for i in np.random.choice(len(tracks.items()), k):\n",
    "        key = tracks.items()[i][0]\n",
    "        track = np.array(tracks.items()[i][1])\n",
    "        t2 = np.array(predictedTracks[key])\n",
    "        plt.plot(track[0,0], -track[0,1], marker=\"x\")\n",
    "        plt.plot(track[:,0], -track[:,1], marker=\"o\", color='b')\n",
    "        plt.plot(t2[:,0], -t2[:,1], marker=\"s\", color='r')\n"
   ]
  },
  {
   "cell_type": "code",
   "execution_count": 70,
   "metadata": {
    "collapsed": false
   },
   "outputs": [
    {
     "data": {
      "image/png": "[encoded data removed]",
      "text/plain": [
       "<matplotlib.figure.Figure at 0x11cc89b10>"
      ]
     },
     "metadata": {},
     "output_type": "display_data"
    }
   ],
   "source": [
    "# Note that this includes training data so it may be overfit for some\n",
    "displayPredictedTracks(tracks,predictedTracks, 2)"
   ]
  },
  {
   "cell_type": "code",
   "execution_count": null,
   "metadata": {
    "collapsed": true
   },
   "outputs": [],
   "source": []
  }
 ],
 "metadata": {
  "kernelspec": {
   "display_name": "Python 2",
   "language": "python",
   "name": "python2"
  },
  "language_info": {
   "codemirror_mode": {
    "name": "ipython",
    "version": 2
   },
   "file_extension": ".py",
   "mimetype": "text/x-python",
   "name": "python",
   "nbconvert_exporter": "python",
   "pygments_lexer": "ipython2",
   "version": "2.7.12"
  }
 },
 "nbformat": 4,
 "nbformat_minor": 0
}
