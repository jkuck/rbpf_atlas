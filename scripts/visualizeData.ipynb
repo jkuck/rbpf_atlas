{
 "cells": [
  {
   "cell_type": "code",
   "execution_count": 1,
   "metadata": {
    "collapsed": true
   },
   "outputs": [],
   "source": [
    "%matplotlib inline\n",
    "\n",
    "import matplotlib\n",
    "import numpy as np\n",
    "import matplotlib.pyplot as plt\n",
    "import json"
   ]
  },
  {
   "cell_type": "code",
   "execution_count": 2,
   "metadata": {
    "collapsed": true
   },
   "outputs": [],
   "source": [
    "tracks = json.load(open(\"../data/groundtruth_tracks.json\"))"
   ]
  },
  {
   "cell_type": "code",
   "execution_count": 33,
   "metadata": {
    "collapsed": false
   },
   "outputs": [
    {
     "data": {
      "image/png": "[encoded data removed]",
      "text/plain": [
       "<matplotlib.figure.Figure at 0x10ef88c10>"
      ]
     },
     "metadata": {},
     "output_type": "display_data"
    }
   ],
   "source": [
    "for i in np.random.choice(len(tracks.items()), 5):\n",
    "    track = np.array(tracks.items()[i][1])\n",
    "    plt.plot(track[0,0], -track[0,1], marker=\"x\")\n",
    "    plt.plot(track[:,0], -track[:,1], marker=\"o\")"
   ]
  },
  {
   "cell_type": "code",
   "execution_count": 34,
   "metadata": {
    "collapsed": false
   },
   "outputs": [
    {
     "name": "stderr",
     "output_type": "stream",
     "text": [
      "Using Theano backend.\n"
     ]
    }
   ],
   "source": [
    "import pandas\n",
    "import math\n",
    "from keras.models import Sequential\n",
    "from keras.layers import Dense\n",
    "from keras.layers import LSTM\n",
    "from sklearn.preprocessing import MinMaxScaler\n",
    "from sklearn.metrics import mean_squared_error"
   ]
  },
  {
   "cell_type": "code",
   "execution_count": 36,
   "metadata": {
    "collapsed": false
   },
   "outputs": [],
   "source": [
    "np.random.seed(7)"
   ]
  },
  {
   "cell_type": "code",
   "execution_count": 58,
   "metadata": {
    "collapsed": false
   },
   "outputs": [],
   "source": [
    "def buildDataset(tracks):\n",
    "    dataset = []\n",
    "    for key, track in tracks.items():\n",
    "        for i, pos in enumerate(track):\n",
    "            if i < len(track)-1:\n",
    "                dataset.append((tuple(pos + track[i+1])))\n",
    "    return dataset\n",
    "                \n",
    "dataset = buildDataset(tracks) \n",
    "# each row in the dataset is the x1, x2, y1, y2 \n",
    "# where x1, x2 are the coordinate of previous position and y1,y2 are \n",
    "# coordinates of the next position or the location that should be predicted"
   ]
  },
  {
   "cell_type": "code",
   "execution_count": 60,
   "metadata": {
    "collapsed": false
   },
   "outputs": [],
   "source": [
    "scaler = MinMaxScaler(feature_range=(0, 1))\n",
    "dataset = scaler.fit_transform(dataset)"
   ]
  },
  {
   "cell_type": "code",
   "execution_count": 62,
   "metadata": {
    "collapsed": false
   },
   "outputs": [
    {
     "name": "stdout",
     "output_type": "stream",
     "text": [
      "(17903, 8818)\n"
     ]
    }
   ],
   "source": [
    "# Split into test and train\n",
    "train_size = int(len(dataset) * 0.67)\n",
    "test_size = len(dataset) - train_size\n",
    "train, test = dataset[0:train_size,:], dataset[train_size:len(dataset),:]\n",
    "print(len(train), len(test))"
   ]
  },
  {
   "cell_type": "code",
   "execution_count": 73,
   "metadata": {
    "collapsed": false
   },
   "outputs": [],
   "source": [
    "xtrain = np.matrix(train[:,0:2])\n",
    "ytrain = np.matrix(train[:,2:])\n",
    "xtest = np.matrix(test[:,0:2])\n",
    "ytest = np.matrix(test[:,2:])"
   ]
  },
  {
   "cell_type": "code",
   "execution_count": 101,
   "metadata": {
    "collapsed": false
   },
   "outputs": [],
   "source": [
    "# reshape input to be [samples, time steps, features]\n",
    "xtrain = np.reshape(np.array(xtrain), (xtrain.shape[0], 1, xtrain.shape[1]))\n",
    "xtest = np.reshape(np.array(xtest), (xtest.shape[0], 1, xtest.shape[1]))"
   ]
  },
  {
   "cell_type": "code",
   "execution_count": 98,
   "metadata": {
    "collapsed": false
   },
   "outputs": [
    {
     "name": "stdout",
     "output_type": "stream",
     "text": [
      "[[ 0.62446123  0.10217015]]\n",
      "[[ 0.62740964  0.09628095]]\n"
     ]
    }
   ],
   "source": [
    "xsample = xtrain[0, :]\n",
    "ysample = ytrain[0,:]\n",
    "print xsample\n",
    "print ysample"
   ]
  },
  {
   "cell_type": "code",
   "execution_count": 99,
   "metadata": {
    "collapsed": false
   },
   "outputs": [],
   "source": [
    "xsample = np.array(xsample).reshape((1,1,2))\n"
   ]
  },
  {
   "cell_type": "code",
   "execution_count": 103,
   "metadata": {
    "collapsed": false
   },
   "outputs": [
    {
     "name": "stdout",
     "output_type": "stream",
     "text": [
      "Epoch 1/10\n",
      "20s - loss: 0.0046\n",
      "Epoch 2/10\n",
      "20s - loss: 2.2554e-04\n",
      "Epoch 3/10\n",
      "21s - loss: 2.0010e-04\n",
      "Epoch 4/10\n",
      "21s - loss: 1.9204e-04\n",
      "Epoch 5/10\n",
      "22s - loss: 1.8807e-04\n",
      "Epoch 6/10\n",
      "30s - loss: 1.8630e-04\n",
      "Epoch 7/10\n",
      "25s - loss: 1.8546e-04\n",
      "Epoch 8/10\n",
      "27s - loss: 1.8350e-04\n",
      "Epoch 9/10\n",
      "28s - loss: 1.8332e-04\n",
      "Epoch 10/10\n",
      "26s - loss: 1.8250e-04\n"
     ]
    },
    {
     "data": {
      "text/plain": [
       "<keras.callbacks.History at 0x12a16a290>"
      ]
     },
     "execution_count": 103,
     "metadata": {},
     "output_type": "execute_result"
    }
   ],
   "source": [
    "model = Sequential()\n",
    "model.add(LSTM(4, input_dim=2))\n",
    "model.add(Dense(2))\n",
    "model.compile(loss='mean_squared_error', optimizer='adam')\n",
    "model.fit(xtrain, ytrain, nb_epoch=10, batch_size=1, verbose=2)"
   ]
  },
  {
   "cell_type": "code",
   "execution_count": 116,
   "metadata": {
    "collapsed": false
   },
   "outputs": [
    {
     "name": "stdout",
     "output_type": "stream",
     "text": [
      "Train Score: 0.0139828 RMSE\n",
      "Test Score: 0.0135981 RMSE\n"
     ]
    }
   ],
   "source": [
    "trainPredict = model.predict(xtrain)\n",
    "testPredict = model.predict(xtest)\n",
    "# invert predictions\n",
    "#trainPredict = scaler.inverse_transform(np.concatenate((xtrain.reshape(xtrain.shape[0], xtrain.shape[2]),trainPredict), axis=1))[:,2:]\n",
    "#trainY = scaler.inverse_transform([trainY])\n",
    "#testPredict = scaler.inverse_transform(testPredict)\n",
    "#testY = scaler.inverse_transform([testY])\n",
    "# calculate root mean squared error\n",
    "trainScore = math.sqrt(mean_squared_error(ytrain, trainPredict))\n",
    "print('Train Score: %.7f RMSE' % (trainScore))\n",
    "testScore = math.sqrt(mean_squared_error(ytest, testPredict))\n",
    "print('Test Score: %.7f RMSE' % (testScore))"
   ]
  },
  {
   "cell_type": "code",
   "execution_count": 122,
   "metadata": {
    "collapsed": false
   },
   "outputs": [],
   "source": [
    "def rebuildTracks(xtrain, ytrain, xtest, ytest, trainPredict, testPredict, tracks):\n",
    "    rawdata = []\n",
    "    predictions = []\n",
    "    trainindex = 0\n",
    "    testindex = 0\n",
    "    for track in tracks.items():\n",
    "        sample = []\n",
    "        prediction = []\n",
    "        for i, pos in enumerate(track):\n",
    "            if trainindex >= len(xtrain)-1:\n",
    "                x = xtrain\n",
    "                y = ytrain\n",
    "                pred = trainPredict\n",
    "                index = trainindex\n",
    "            else:\n",
    "                x = xtest\n",
    "                y = ytest\n",
    "                pred = testPredict\n",
    "                index = testindex\n",
    "            if i == 1:\n",
    "                prediction.append(x[index])\n",
    "                prediction.append(pred[index])\n",
    "            if i == len(track)-1:\n",
    "                sample.append(x[index])\n",
    "                sample.append(y[index])\n",
    "            else:\n",
    "                sample.append(x[index])\n",
    "                prediction.append(pred[index])\n",
    "            if trainindex >= len(xtrain)-1:\n",
    "                trainindex += 1\n",
    "            else:\n",
    "                testindex += 1\n",
    "        rawdata.append(sample)\n",
    "        predictions.append(prediction)\n",
    "    return rawdata, predictions"
   ]
  },
  {
   "cell_type": "code",
   "execution_count": 123,
   "metadata": {
    "collapsed": false
   },
   "outputs": [
    {
     "ename": "TypeError",
     "evalue": "'NoneType' object is not iterable",
     "output_type": "error",
     "traceback": [
      "\u001b[0;31m---------------------------------------------------------------------------\u001b[0m",
      "\u001b[0;31mTypeError\u001b[0m                                 Traceback (most recent call last)",
      "\u001b[0;32m<ipython-input-123-3d44d5f4903f>\u001b[0m in \u001b[0;36m<module>\u001b[0;34m()\u001b[0m\n\u001b[0;32m----> 1\u001b[0;31m \u001b[0mrawdata\u001b[0m\u001b[0;34m,\u001b[0m \u001b[0mpredictions\u001b[0m \u001b[0;34m=\u001b[0m \u001b[0mrebuildTracks\u001b[0m\u001b[0;34m(\u001b[0m\u001b[0mxtrain\u001b[0m\u001b[0;34m,\u001b[0m \u001b[0mytrain\u001b[0m\u001b[0;34m,\u001b[0m \u001b[0mxtest\u001b[0m\u001b[0;34m,\u001b[0m \u001b[0mytest\u001b[0m\u001b[0;34m,\u001b[0m \u001b[0mtrainPredict\u001b[0m\u001b[0;34m,\u001b[0m \u001b[0mtestPredict\u001b[0m\u001b[0;34m,\u001b[0m \u001b[0mtracks\u001b[0m\u001b[0;34m)\u001b[0m\u001b[0;34m\u001b[0m\u001b[0m\n\u001b[0m",
      "\u001b[0;31mTypeError\u001b[0m: 'NoneType' object is not iterable"
     ]
    }
   ],
   "source": [
    "rawdata, predictions = rebuildTracks(xtrain, ytrain, xtest, ytest, trainPredict, testPredict, tracks)"
   ]
  },
  {
   "cell_type": "code",
   "execution_count": 124,
   "metadata": {
    "collapsed": true
   },
   "outputs": [],
   "source": [
    "rawdata = []\n",
    "predictions = []\n",
    "trainindex = 0\n",
    "testindex = 0\n",
    "for track in tracks.items():\n",
    "    sample = []\n",
    "    prediction = []\n",
    "    for i, pos in enumerate(track):\n",
    "        if trainindex >= len(xtrain)-1:\n",
    "            x = xtrain\n",
    "            y = ytrain\n",
    "            pred = trainPredict\n",
    "            index = trainindex\n",
    "        else:\n",
    "            x = xtest\n",
    "            y = ytest\n",
    "            pred = testPredict\n",
    "            index = testindex\n",
    "        if i == 1:\n",
    "            prediction.append(x[index])\n",
    "            prediction.append(pred[index])\n",
    "        if i == len(track)-1:\n",
    "            sample.append(x[index])\n",
    "            sample.append(y[index])\n",
    "        else:\n",
    "            sample.append(x[index])\n",
    "            prediction.append(pred[index])\n",
    "        if trainindex >= len(xtrain)-1:\n",
    "            trainindex += 1\n",
    "        else:\n",
    "            testindex += 1\n",
    "    rawdata.append(sample)\n",
    "    predictions.append(prediction)"
   ]
  },
  {
   "cell_type": "code",
   "execution_count": 131,
   "metadata": {
    "collapsed": false
   },
   "outputs": [
    {
     "data": {
      "text/plain": [
       "3"
      ]
     },
     "execution_count": 131,
     "metadata": {},
     "output_type": "execute_result"
    }
   ],
   "source": [
    "len(rawdata[2])"
   ]
  },
  {
   "cell_type": "code",
   "execution_count": null,
   "metadata": {
    "collapsed": true
   },
   "outputs": [],
   "source": []
  }
 ],
 "metadata": {
  "kernelspec": {
   "display_name": "Python 2",
   "language": "python",
   "name": "python2"
  },
  "language_info": {
   "codemirror_mode": {
    "name": "ipython",
    "version": 2
   },
   "file_extension": ".py",
   "mimetype": "text/x-python",
   "name": "python",
   "nbconvert_exporter": "python",
   "pygments_lexer": "ipython2",
   "version": "2.7.12"
  }
 },
 "nbformat": 4,
 "nbformat_minor": 0
}
