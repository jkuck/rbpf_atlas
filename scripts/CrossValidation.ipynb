{
 "cells": [
  {
   "cell_type": "markdown",
   "metadata": {},
   "source": [
    "# TODO:\n",
    "This seems to work pretty well. We may want to retrain the the LSTM with more hidden units. I've saved the current model."
   ]
  },
  {
   "cell_type": "code",
   "execution_count": 1,
   "metadata": {
    "collapsed": true
   },
   "outputs": [],
   "source": [
    "%matplotlib inline\n",
    "\n",
    "import matplotlib\n",
    "import numpy as np\n",
    "import matplotlib.pyplot as plt\n",
    "import json"
   ]
  },
  {
   "cell_type": "code",
   "execution_count": 49,
   "metadata": {
    "collapsed": false
   },
   "outputs": [],
   "source": [
    "tracks = json.load(open(\"../data/groundtruth_tracks.json\"))"
   ]
  },
  {
   "cell_type": "code",
   "execution_count": 72,
   "metadata": {
    "collapsed": false
   },
   "outputs": [],
   "source": [
    "rmse = np.array([5.7930372, 3.9513907, 3.7556391, 3.8935025, 3.1221650, 3.5124706, 3.8339079, 3.4794855,\n",
    "       2.9303418, 3.2985787, 5.4267551, 3.5405702, 3.4878588, 3.5515010, 3.9138511, 3.8537341, \n",
    "        3.2868891, 4.0449222, 3.1908154, 3.4649720, 4.8043567])\n",
    "counts = np.array([243, 2681, 1032, 363, 818, 1275, 550, 2258, 1046, 2859, 603, 3405,55,\n",
    "                  144, 455, 899, 836, 0, 1354, 927, 5497])"
   ]
  },
  {
   "cell_type": "code",
   "execution_count": 76,
   "metadata": {
    "collapsed": false
   },
   "outputs": [
    {
     "name": "stdout",
     "output_type": "stream",
     "text": [
      "15.0553737701\n",
      "15.0510633932\n"
     ]
    }
   ],
   "source": [
    "weights = sum(counts) - counts\n",
    "mse = rmse**2\n",
    "print np.mean(mse)\n",
    "print sum(mse * weights) / sum(weights)"
   ]
  },
  {
   "cell_type": "code",
   "execution_count": 61,
   "metadata": {
    "collapsed": false
   },
   "outputs": [
    {
     "name": "stdout",
     "output_type": "stream",
     "text": [
      "{u'0019.txt': 927, u'0016.txt': 836, u'0018.txt': 1354, u'0011.txt': 3405, u'0005.txt': 1275, u'0010.txt': 603, u'0006.txt': 550, u'0003.txt': 363, u'0002.txt': 1032, u'0020.txt': 5497, u'0015.txt': 899, u'0004.txt': 818, u'0009.txt': 2859, u'0008.txt': 1046, u'0007.txt': 2258, u'0000.txt': 243, u'0012.txt': 144, u'0013.txt': 55, u'0014.txt': 455, u'0001.txt': 2681}\n"
     ]
    }
   ],
   "source": [
    "counts = {}\n",
    "for k, t in tracks.items():\n",
    "    key = k[:8]\n",
    "    if key not in counts.keys():\n",
    "        counts[key] = 0\n",
    "    counts[key] += len(t)\n",
    "print counts"
   ]
  },
  {
   "cell_type": "code",
   "execution_count": 52,
   "metadata": {
    "collapsed": false
   },
   "outputs": [
    {
     "name": "stdout",
     "output_type": "stream",
     "text": [
      "20\n"
     ]
    }
   ],
   "source": [
    "keys = set()\n",
    "for key in tracks.keys():\n",
    "    keys.add(key[0:8])\n",
    "print len(keys)"
   ]
  },
  {
   "cell_type": "code",
   "execution_count": 24,
   "metadata": {
    "collapsed": false
   },
   "outputs": [
    {
     "name": "stderr",
     "output_type": "stream",
     "text": [
      "Using Theano backend.\n"
     ]
    }
   ],
   "source": [
    "import pandas\n",
    "import math\n",
    "from keras.models import Sequential\n",
    "from keras.layers import Dense\n",
    "from keras.layers import LSTM\n",
    "from sklearn.preprocessing import MinMaxScaler\n",
    "from sklearn.metrics import mean_squared_error"
   ]
  },
  {
   "cell_type": "code",
   "execution_count": 53,
   "metadata": {
    "collapsed": false
   },
   "outputs": [],
   "source": [
    "def buildLookbackDataset(tracks, lookback=3, skip=None):\n",
    "    lookback +=1\n",
    "    dataset = []\n",
    "    for key, track in tracks.items():\n",
    "        if skip:\n",
    "            filename = \"%04d.txt\" % skip\n",
    "            if filename in key:\n",
    "                continue\n",
    "        for i, pos in enumerate(track):\n",
    "            if i < lookback:\n",
    "                continue\n",
    "            dataset.append(np.array(track[i-lookback:i]).ravel())\n",
    "    return dataset\n",
    "                \n",
    "dataset = buildLookbackDataset(tracks) \n",
    "dataset = np.array(dataset)\n",
    "# each row in the dataset is the x1, x2, y1, y2 \n",
    "# where x1, x2 are the coordinate of previous position and y1,y2 are \n",
    "# coordinates of the next position or the location that should be predicted"
   ]
  },
  {
   "cell_type": "code",
   "execution_count": 56,
   "metadata": {
    "collapsed": false
   },
   "outputs": [
    {
     "name": "stdout",
     "output_type": "stream",
     "text": [
      "(25002, 8)\n",
      "(25002, 8)\n",
      "(22677, 8)\n",
      "(24029, 8)\n",
      "(24671, 8)\n",
      "(24284, 8)\n",
      "(23859, 8)\n",
      "(24496, 8)\n",
      "(22956, 8)\n",
      "(24039, 8)\n",
      "(22463, 8)\n",
      "(24451, 8)\n",
      "(21803, 8)\n",
      "(24866, 8)\n",
      "(24955, 8)\n",
      "(24603, 8)\n",
      "(24139, 8)\n",
      "(24182, 8)\n",
      "(25002, 8)\n",
      "(23720, 8)\n",
      "(24103, 8)\n",
      "(19947, 8)\n"
     ]
    }
   ],
   "source": [
    "dataset = buildLookbackDataset(tracks) \n",
    "dataset = np.array(dataset)\n",
    "print dataset.shape\n",
    "for i in xrange(21):\n",
    "    dataset = buildLookbackDataset(tracks, skip=i) \n",
    "    dataset = np.array(dataset)\n",
    "    print dataset.shape"
   ]
  },
  {
   "cell_type": "code",
   "execution_count": 31,
   "metadata": {
    "collapsed": false
   },
   "outputs": [],
   "source": [
    "scaler = MinMaxScaler(feature_range=(0, 1))\n",
    "dataset = scaler.fit_transform(dataset)"
   ]
  },
  {
   "cell_type": "code",
   "execution_count": 32,
   "metadata": {
    "collapsed": false
   },
   "outputs": [
    {
     "name": "stdout",
     "output_type": "stream",
     "text": [
      "(16751, 8251)\n"
     ]
    }
   ],
   "source": [
    "# Split into test and train\n",
    "train_size = int(len(dataset) * 0.67)\n",
    "test_size = len(dataset) - train_size\n",
    "train, test = dataset[0:train_size,:], dataset[train_size:len(dataset),:]\n",
    "print(len(train), len(test))"
   ]
  },
  {
   "cell_type": "code",
   "execution_count": 33,
   "metadata": {
    "collapsed": false
   },
   "outputs": [],
   "source": [
    "xtrain = np.matrix(train[:,0:6])\n",
    "ytrain = np.matrix(train[:,6:])\n",
    "xtest = np.matrix(test[:,0:6])\n",
    "ytest = np.matrix(test[:,6:])"
   ]
  },
  {
   "cell_type": "code",
   "execution_count": 34,
   "metadata": {
    "collapsed": false
   },
   "outputs": [],
   "source": [
    "# reshape input to be [samples, time steps, features]\n",
    "xtrain = np.reshape(np.array(xtrain), (xtrain.shape[0], 3, 2))\n",
    "xtest = np.reshape(np.array(xtest), (xtest.shape[0], 3, 2))"
   ]
  },
  {
   "cell_type": "code",
   "execution_count": 35,
   "metadata": {
    "collapsed": false
   },
   "outputs": [
    {
     "data": {
      "text/plain": [
       "(3, 2)"
      ]
     },
     "execution_count": 35,
     "metadata": {},
     "output_type": "execute_result"
    }
   ],
   "source": [
    "xtrain[0].shape\n"
   ]
  },
  {
   "cell_type": "code",
   "execution_count": 123,
   "metadata": {
    "collapsed": false
   },
   "outputs": [
    {
     "name": "stdout",
     "output_type": "stream",
     "text": [
      "Epoch 1/10\n",
      "22s - loss: 8.4490e-04\n",
      "Epoch 2/10\n",
      "31s - loss: 1.2574e-04\n",
      "Epoch 3/10\n",
      "29s - loss: 9.4804e-05\n",
      "Epoch 4/10\n",
      "27s - loss: 8.7904e-05\n",
      "Epoch 5/10\n",
      "25s - loss: 8.2156e-05\n",
      "Epoch 6/10\n",
      "25s - loss: 7.9009e-05\n",
      "Epoch 7/10\n",
      "27s - loss: 7.5314e-05\n",
      "Epoch 8/10\n",
      "30s - loss: 7.3245e-05\n",
      "Epoch 9/10\n",
      "22s - loss: 7.0216e-05\n",
      "Epoch 10/10\n",
      "22s - loss: 6.8170e-05\n"
     ]
    }
   ],
   "source": [
    "\n",
    "model = Sequential()\n",
    "model.add(LSTM(32, input_shape=(3,2)))\n",
    "model.add(Dense(2))\n",
    "model.compile(loss='mean_squared_error', optimizer='adam')\n",
    "if True:\n",
    "    model.fit(xtrain, ytrain, nb_epoch=10, batch_size=1, verbose=2)\n",
    "else:\n",
    "    model.load_weights('window3_weights.h5')\n"
   ]
  },
  {
   "cell_type": "code",
   "execution_count": 124,
   "metadata": {
    "collapsed": false
   },
   "outputs": [
    {
     "name": "stdout",
     "output_type": "stream",
     "text": [
      "Train Score: 0.0072513 RMSE\n",
      "Test Score: 0.0064826 RMSE\n"
     ]
    }
   ],
   "source": [
    "trainPredict = model.predict(xtrain)\n",
    "testPredict = model.predict(xtest)\n",
    "# invert predictions\n",
    "#trainPredict = scaler.inverse_transform(np.concatenate((xtrain.reshape(xtrain.shape[0], xtrain.shape[2]),trainPredict), axis=1))[:,2:]\n",
    "#trainY = scaler.inverse_transform([trainY])\n",
    "#testPredict = scaler.inverse_transform(testPredict)\n",
    "#testY = scaler.inverse_transform([testY])\n",
    "# calculate root mean squared error\n",
    "\n",
    "trainScore = math.sqrt(mean_squared_error(ytrain, trainPredict))\n",
    "print('Train Score: %.7f RMSE' % (trainScore))\n",
    "testScore = math.sqrt(mean_squared_error(ytest, testPredict))\n",
    "print('Test Score: %.7f RMSE' % (testScore))"
   ]
  },
  {
   "cell_type": "code",
   "execution_count": 125,
   "metadata": {
    "collapsed": false
   },
   "outputs": [
    {
     "name": "stdout",
     "output_type": "stream",
     "text": [
      "Train Score: 4.0492031 RMSE\n",
      "Test Score: 3.6793558 RMSE\n",
      "(16751, 2)\n"
     ]
    }
   ],
   "source": [
    "scaledPredictTrain = scaler.inverse_transform(np.concatenate((ytrain,trainPredict,ytrain,trainPredict), axis=1))\n",
    "scaledPredictTest = scaler.inverse_transform(np.concatenate((ytest,testPredict,ytest,testPredict), axis=1))\n",
    "scaledyTrain = scaler.inverse_transform(np.concatenate((ytrain,trainPredict,ytrain,ytrain), axis=1))\n",
    "scaledyTest = scaler.inverse_transform(np.concatenate((ytest,testPredict,ytest,ytest), axis=1))\n",
    "\n",
    "trainScore = math.sqrt(mean_squared_error(scaledyTrain[:,6:], scaledPredictTrain[:,6:]))\n",
    "print('Train Score: %.7f RMSE' % (trainScore))\n",
    "testScore = math.sqrt(mean_squared_error(scaledyTest[:,6:], scaledPredictTest[:,6:]))\n",
    "print('Test Score: %.7f RMSE' % (testScore))\n",
    "\n",
    "print ytrain.shape"
   ]
  },
  {
   "cell_type": "code",
   "execution_count": 126,
   "metadata": {
    "collapsed": false
   },
   "outputs": [
    {
     "name": "stdout",
     "output_type": "stream",
     "text": [
      "[777.654416, 165.681078]\n",
      "[781.156791, 165.186175]\n"
     ]
    }
   ],
   "source": [
    "#print model.predict(np.array(tracks.items()[0][1][0]).reshape(1,1,2))\n",
    "print tracks.items()[0][1][0]\n",
    "print tracks.items()[0][1][1]"
   ]
  },
  {
   "cell_type": "code",
   "execution_count": 127,
   "metadata": {
    "collapsed": false
   },
   "outputs": [
    {
     "name": "stdout",
     "output_type": "stream",
     "text": [
      "[[ 777.654416   165.681078   781.156791   165.186175   784.809185\n",
      "   164.670002   788.6214485  164.131158 ]]\n",
      "[[ 0.62446123  0.09930999  0.62646688  0.09784558  0.62939047  0.09337126\n",
      "   0.63313688  0.09231694]]\n"
     ]
    }
   ],
   "source": [
    "print np.array(tracks.items()[0][1][0]+tracks.items()[0][1][1]+tracks.items()[0][1][2]\\\n",
    "               +tracks.items()[0][1][3]).reshape(1,-1)\n",
    "orig_scale=np.array(tracks.items()[0][1][0]+tracks.items()[0][1][1]+tracks.items()[0][1][2]\\\n",
    "               +tracks.items()[0][1][3]).reshape(1,-1)\n",
    "l = scaler.transform(orig_scale)\n",
    "print l\n",
    "#x = l[0:2].reshape(1,1,2)\n",
    "#y = l[2:]"
   ]
  },
  {
   "cell_type": "code",
   "execution_count": 128,
   "metadata": {
    "collapsed": true
   },
   "outputs": [],
   "source": [
    "# Note this will predict the new point one frame ahead and build a track by \n",
    "# using measurements from the previous measurement.\n",
    "# The first prediction is exactly the first measurement\n",
    "# The last prediction is emitted because we know that the object is gone\n",
    "# but currently the model has no method for predicting the death of an object\n",
    "def rebuildTracks(tracks, model):\n",
    "    predTracks = {}\n",
    "    for track in tracks.items():\n",
    "        predTracks[track[0]] = []\n",
    "        t = predTracks[track[0]]\n",
    "        for i, pos in enumerate(track[1]):\n",
    "            if i < 3:\n",
    "                t.append(pos)\n",
    "            else:\n",
    "                # scale and resize\n",
    "                p1 = track[1][i-3]\n",
    "                p2 = track[1][i-2]\n",
    "                p3 = track[1][i-1]\n",
    "                p = scaler.transform(np.array(p1+p2+p3+p3).reshape(1,-1))[0][0:6].reshape(1,3,2)\n",
    "                # predict\n",
    "                pred = model.predict(p).reshape(1,2).tolist()\n",
    "                pred = scaler.inverse_transform(np.array(pred[0]+pred[0]+pred[0]+pred[0])\\\n",
    "                                                .reshape(1,-1))[0][6:]\n",
    "                t.append(pred)\n",
    "    return predTracks"
   ]
  },
  {
   "cell_type": "code",
   "execution_count": 129,
   "metadata": {
    "collapsed": false
   },
   "outputs": [],
   "source": [
    "predictedTracks = rebuildTracks(tracks,model)"
   ]
  },
  {
   "cell_type": "code",
   "execution_count": 130,
   "metadata": {
    "collapsed": true
   },
   "outputs": [],
   "source": [
    "def displayPredictedTracks(tracks,predictedTracks, k):\n",
    "    for i in np.random.choice(len(tracks.items()), k):\n",
    "        if i / float(len(tracks.items())) < .67:\n",
    "            print \"Training\"\n",
    "        else:\n",
    "            print \"Testing\"\n",
    "        print \"%d of %d\"% (i, len(tracks.items()))\n",
    "        key = tracks.items()[i][0]\n",
    "        track = np.array(tracks.items()[i][1])\n",
    "        t2 = np.array(predictedTracks[key])\n",
    "        plt.plot(track[0,0], -track[0,1], marker=\"x\")\n",
    "        plt.plot(track[:,0], -track[:,1], marker=\"o\", color='b')\n",
    "        plt.plot(t2[:,0], -t2[:,1], marker=\"s\", color='r')\n"
   ]
  },
  {
   "cell_type": "code",
   "execution_count": 144,
   "metadata": {
    "collapsed": false
   },
   "outputs": [
    {
     "name": "stdout",
     "output_type": "stream",
     "text": [
      "Training\n",
      "130 of 579\n"
     ]
    },
    {
     "data": {
      "image/png": "[encoded data removed]",
      "text/plain": [
       "<matplotlib.figure.Figure at 0x118fd5ad0>"
      ]
     },
     "metadata": {},
     "output_type": "display_data"
    }
   ],
   "source": [
    "displayPredictedTracks(tracks,predictedTracks, 1)"
   ]
  },
  {
   "cell_type": "code",
   "execution_count": 145,
   "metadata": {
    "collapsed": true
   },
   "outputs": [],
   "source": [
    "#model.save_weights('window3_32h_weights.h5')"
   ]
  },
  {
   "cell_type": "code",
   "execution_count": 108,
   "metadata": {
    "collapsed": false
   },
   "outputs": [
    {
     "data": {
      "text/plain": [
       "dict"
      ]
     },
     "execution_count": 108,
     "metadata": {},
     "output_type": "execute_result"
    }
   ],
   "source": [
    "#scaler.get_params()"
   ]
  },
  {
   "cell_type": "code",
   "execution_count": 109,
   "metadata": {
    "collapsed": true
   },
   "outputs": [],
   "source": [
    "#import pickle"
   ]
  },
  {
   "cell_type": "code",
   "execution_count": 110,
   "metadata": {
    "collapsed": true
   },
   "outputs": [],
   "source": [
    "#with open('scaler.pickle', 'wb') as handle:\n",
    "#    pickle.dump(scaler, handle)"
   ]
  },
  {
   "cell_type": "code",
   "execution_count": 49,
   "metadata": {
    "collapsed": false
   },
   "outputs": [],
   "source": [
    "def covariance(tracks, predTracks):\n",
    "    x = []\n",
    "    y = []\n",
    "    for (key, track) in tracks.items():\n",
    "        for j, point in enumerate(track):\n",
    "            x.append(point[0] - predictedTracks[key][j][0])\n",
    "            y.append(point[1] - predictedTracks[key][j][1])\n",
    "    x = np.matrix(x)\n",
    "    y = np.matrix(y)\n",
    "    m = np.concatenate((x,y), axis=0)\n",
    "    print np.var(x)\n",
    "    print np.var(y)\n",
    "    return np.cov(m)"
   ]
  },
  {
   "cell_type": "code",
   "execution_count": 50,
   "metadata": {
    "collapsed": false
   },
   "outputs": [
    {
     "name": "stdout",
     "output_type": "stream",
     "text": [
      "28.0064938099\n",
      "2.72131484714\n",
      "[[ 28.00751973  -0.93562177]\n",
      " [ -0.93562177   2.72141453]]\n"
     ]
    }
   ],
   "source": [
    "print covariance(tracks, predictedTracks)"
   ]
  }
 ],
 "metadata": {
  "kernelspec": {
   "display_name": "Python 2",
   "language": "python",
   "name": "python2"
  },
  "language_info": {
   "codemirror_mode": {
    "name": "ipython",
    "version": 2
   },
   "file_extension": ".py",
   "mimetype": "text/x-python",
   "name": "python",
   "nbconvert_exporter": "python",
   "pygments_lexer": "ipython2",
   "version": "2.7.12"
  }
 },
 "nbformat": 4,
 "nbformat_minor": 0
}
