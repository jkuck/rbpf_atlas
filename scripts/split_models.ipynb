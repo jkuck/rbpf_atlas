{
 "cells": [
  {
   "cell_type": "code",
   "execution_count": 1,
   "metadata": {
    "collapsed": true
   },
   "outputs": [],
   "source": [
    "%matplotlib inline\n",
    "\n",
    "import matplotlib\n",
    "import numpy as np\n",
    "import matplotlib.pyplot as plt\n",
    "import json"
   ]
  },
  {
   "cell_type": "code",
   "execution_count": 2,
   "metadata": {
    "collapsed": true
   },
   "outputs": [],
   "source": [
    "tracks = json.load(open(\"../data/groundtruth_tracks.json\"))"
   ]
  },
  {
   "cell_type": "code",
   "execution_count": 3,
   "metadata": {
    "collapsed": false
   },
   "outputs": [
    {
     "data": {
      "image/png": "[encoded data removed]",
      "text/plain": [
       "<matplotlib.figure.Figure at 0x1058d5c50>"
      ]
     },
     "metadata": {},
     "output_type": "display_data"
    }
   ],
   "source": [
    "def displayTracks(tracks, k):\n",
    "    for i in np.random.choice(len(tracks.items()), k):\n",
    "        track = np.array(tracks.items()[i][1])\n",
    "        plt.plot(track[0,0], -track[0,1], marker=\"x\")\n",
    "        plt.plot(track[:,0], -track[:,1], marker=\"o\")\n",
    "displayTracks(tracks, 5)"
   ]
  },
  {
   "cell_type": "code",
   "execution_count": 4,
   "metadata": {
    "collapsed": false
   },
   "outputs": [
    {
     "name": "stderr",
     "output_type": "stream",
     "text": [
      "Using Theano backend.\n"
     ]
    }
   ],
   "source": [
    "import pandas\n",
    "import math\n",
    "import keras\n",
    "from keras.models import Sequential\n",
    "from keras.layers import Dense\n",
    "from keras.layers import LSTM\n",
    "from sklearn.preprocessing import MinMaxScaler\n",
    "from sklearn.metrics import mean_squared_error"
   ]
  },
  {
   "cell_type": "code",
   "execution_count": 5,
   "metadata": {
    "collapsed": false
   },
   "outputs": [],
   "source": [
    "np.random.seed(7)"
   ]
  },
  {
   "cell_type": "code",
   "execution_count": 6,
   "metadata": {
    "collapsed": false
   },
   "outputs": [],
   "source": [
    "def buildLookbackDataset(tracks, lookback=3):\n",
    "    dataset = []\n",
    "    for key, track in tracks.items():\n",
    "        for i, pos in enumerate(track):\n",
    "            if i < lookback:\n",
    "                continue\n",
    "            dataset.append(np.array(track[i-lookback:i+1]).ravel())\n",
    "    return dataset\n",
    "                \n",
    "dataset = buildLookbackDataset(tracks) \n",
    "# each row in the dataset is the x1, x2, y1, y2 \n",
    "# where x1, x2 are the coordinate of previous position and y1,y2 are \n",
    "# coordinates of the next position or the location that should be predicted"
   ]
  },
  {
   "cell_type": "code",
   "execution_count": 7,
   "metadata": {
    "collapsed": false
   },
   "outputs": [],
   "source": [
    "scaler = MinMaxScaler(feature_range=(0, 1))\n",
    "dataset = scaler.fit_transform(dataset)"
   ]
  },
  {
   "cell_type": "code",
   "execution_count": 8,
   "metadata": {
    "collapsed": false
   },
   "outputs": [
    {
     "name": "stdout",
     "output_type": "stream",
     "text": [
      "(17132, 8439)\n"
     ]
    }
   ],
   "source": [
    "# Split into test and train\n",
    "train_size = int(len(dataset) * 0.67)\n",
    "test_size = len(dataset) - train_size\n",
    "train, test = dataset[0:train_size,:], dataset[train_size:len(dataset),:]\n",
    "print(len(train), len(test))"
   ]
  },
  {
   "cell_type": "code",
   "execution_count": 9,
   "metadata": {
    "collapsed": false
   },
   "outputs": [],
   "source": [
    "xtrain = np.matrix(train[:,0:6])\n",
    "ytrain = np.matrix(train[:,6:])\n",
    "xtest = np.matrix(test[:,0:6])\n",
    "ytest = np.matrix(test[:,6:])"
   ]
  },
  {
   "cell_type": "code",
   "execution_count": 10,
   "metadata": {
    "collapsed": false
   },
   "outputs": [],
   "source": [
    "# reshape input to be [samples, time steps, features]\n",
    "xtrain = np.reshape(np.array(xtrain), (xtrain.shape[0], 3, 2))\n",
    "xtest = np.reshape(np.array(xtest), (xtest.shape[0], 3, 2))"
   ]
  },
  {
   "cell_type": "code",
   "execution_count": 11,
   "metadata": {
    "collapsed": false
   },
   "outputs": [
    {
     "data": {
      "text/plain": [
       "(3, 2)"
      ]
     },
     "execution_count": 11,
     "metadata": {},
     "output_type": "execute_result"
    }
   ],
   "source": [
    "xtrain[0].shape\n"
   ]
  },
  {
   "cell_type": "code",
   "execution_count": 12,
   "metadata": {
    "collapsed": false
   },
   "outputs": [],
   "source": [
    "model = Sequential()\n",
    "model.add(LSTM(32, input_shape=(3,2)))\n",
    "model.add(Dense(2))\n",
    "model.compile(loss='mean_squared_error', optimizer='adam')\n",
    "model.load_weights('cv-mu-weights17.h5')"
   ]
  },
  {
   "cell_type": "code",
   "execution_count": 13,
   "metadata": {
    "collapsed": false
   },
   "outputs": [
    {
     "name": "stdout",
     "output_type": "stream",
     "text": [
      "Train Score: 0.0073311 RMSE\n",
      "Test Score: 0.0073196 RMSE\n"
     ]
    }
   ],
   "source": [
    "trainPredict = model.predict(xtrain)\n",
    "testPredict = model.predict(xtest)\n",
    "# invert predictions\n",
    "#trainPredict = scaler.inverse_transform(np.concatenate((xtrain.reshape(xtrain.shape[0], xtrain.shape[2]),trainPredict), axis=1))[:,2:]\n",
    "#trainY = scaler.inverse_transform([trainY])\n",
    "#testPredict = scaler.inverse_transform(testPredict)\n",
    "#testY = scaler.inverse_transform([testY])\n",
    "# calculate root mean squared error\n",
    "\n",
    "trainScore = math.sqrt(mean_squared_error(ytrain, trainPredict))\n",
    "print('Train Score: %.7f RMSE' % (trainScore))\n",
    "testScore = math.sqrt(mean_squared_error(ytest, testPredict))\n",
    "print('Test Score: %.7f RMSE' % (testScore))"
   ]
  },
  {
   "cell_type": "code",
   "execution_count": 14,
   "metadata": {
    "collapsed": false
   },
   "outputs": [
    {
     "name": "stdout",
     "output_type": "stream",
     "text": [
      "Train Score: 3.7592978 RMSE\n",
      "Test Score: 3.3335375 RMSE\n",
      "(17132, 2)\n"
     ]
    }
   ],
   "source": [
    "scaledPredictTrain = scaler.inverse_transform(np.concatenate((ytrain,trainPredict,ytrain,trainPredict), axis=1))\n",
    "scaledPredictTest = scaler.inverse_transform(np.concatenate((ytest,testPredict,ytest,testPredict), axis=1))\n",
    "\n",
    "trainScore = math.sqrt(mean_squared_error(scaledPredictTrain[:,0:2], scaledPredictTrain[:,2:4]))\n",
    "print('Train Score: %.7f RMSE' % (trainScore))\n",
    "testScore = math.sqrt(mean_squared_error(scaledPredictTest[:,0:2], scaledPredictTest[:,2:4]))\n",
    "print('Test Score: %.7f RMSE' % (testScore))\n",
    "\n",
    "print ytrain.shape"
   ]
  },
  {
   "cell_type": "code",
   "execution_count": 15,
   "metadata": {
    "collapsed": false
   },
   "outputs": [
    {
     "name": "stdout",
     "output_type": "stream",
     "text": [
      "[777.654416, 165.681078]\n",
      "[781.156791, 165.186175]\n"
     ]
    }
   ],
   "source": [
    "#print model.predict(np.array(tracks.items()[0][1][0]).reshape(1,1,2))\n",
    "print tracks.items()[0][1][0]\n",
    "print tracks.items()[0][1][1]"
   ]
  },
  {
   "cell_type": "code",
   "execution_count": 16,
   "metadata": {
    "collapsed": false
   },
   "outputs": [
    {
     "name": "stdout",
     "output_type": "stream",
     "text": [
      "[[ 777.654416   165.681078   781.156791   165.186175   784.809185\n",
      "   164.670002   788.6214485  164.131158 ]]\n",
      "[[ 0.62446123  0.09930999  0.62646688  0.09671893  0.63003074  0.0957425\n",
      "   0.63346208  0.08985109]]\n"
     ]
    }
   ],
   "source": [
    "print np.array(tracks.items()[0][1][0]+tracks.items()[0][1][1]+tracks.items()[0][1][2]\\\n",
    "               +tracks.items()[0][1][3]).reshape(1,-1)\n",
    "orig_scale=np.array(tracks.items()[0][1][0]+tracks.items()[0][1][1]+tracks.items()[0][1][2]\\\n",
    "               +tracks.items()[0][1][3]).reshape(1,-1)\n",
    "l = scaler.transform(orig_scale)\n",
    "print l\n",
    "#x = l[0:2].reshape(1,1,2)\n",
    "#y = l[2:]"
   ]
  },
  {
   "cell_type": "code",
   "execution_count": 17,
   "metadata": {
    "collapsed": true
   },
   "outputs": [],
   "source": [
    "# Note this will predict the new point one frame ahead and build a track by \n",
    "# using measurements from the previous measurement.\n",
    "# The first prediction is exactly the first measurement\n",
    "# The last prediction is emitted because we know that the object is gone\n",
    "# but currently the model has no method for predicting the death of an object\n",
    "def rebuildTracks(tracks, model):\n",
    "    predTracks = {}\n",
    "    for track in tracks.items():\n",
    "        predTracks[track[0]] = []\n",
    "        t = predTracks[track[0]]\n",
    "        for i, pos in enumerate(track[1]):\n",
    "            if i < 3:\n",
    "                t.append(pos)\n",
    "            else:\n",
    "                # scale and resize\n",
    "                p1 = track[1][i-3]\n",
    "                p2 = track[1][i-2]\n",
    "                p3 = track[1][i-1]\n",
    "                p = scaler.transform(np.array(p1+p2+p3+p3).reshape(1,-1))[0][0:6].reshape(1,3,2)\n",
    "                # predict\n",
    "                pred = model.predict(p).reshape(1,2).tolist()\n",
    "                pred = scaler.inverse_transform(np.array(pred[0]+pred[0]+pred[0]+pred[0])\\\n",
    "                                                .reshape(1,-1))[0][0:2]\n",
    "                t.append(pred)\n",
    "    return predTracks"
   ]
  },
  {
   "cell_type": "code",
   "execution_count": 18,
   "metadata": {
    "collapsed": false
   },
   "outputs": [],
   "source": [
    "predictedTracks = rebuildTracks(tracks,model)"
   ]
  },
  {
   "cell_type": "code",
   "execution_count": 19,
   "metadata": {
    "collapsed": true
   },
   "outputs": [],
   "source": [
    "def displayPredictedTracks(tracks,predictedTracks, k):\n",
    "    for i in np.random.choice(len(tracks.items()), k):\n",
    "        if i / float(len(tracks.items())) < .67:\n",
    "            print \"Training\"\n",
    "        else:\n",
    "            print \"Testing\"\n",
    "        print \"%d of %d\"% (i, len(tracks.items()))\n",
    "        key = tracks.items()[i][0]\n",
    "        track = np.array(tracks.items()[i][1])\n",
    "        t2 = np.array(predictedTracks[key])\n",
    "        plt.plot(track[0,0], -track[0,1], marker=\"x\")\n",
    "        plt.plot(track[:,0], -track[:,1], marker=\"o\", color='b')\n",
    "        plt.plot(t2[:,0], -t2[:,1], marker=\"s\", color='r')\n"
   ]
  },
  {
   "cell_type": "code",
   "execution_count": 40,
   "metadata": {
    "collapsed": false
   },
   "outputs": [
    {
     "name": "stdout",
     "output_type": "stream",
     "text": [
      "Training\n",
      "178 of 579\n"
     ]
    },
    {
     "data": {
      "image/png": "[encoded data removed]",
      "text/plain": [
       "<matplotlib.figure.Figure at 0x113304190>"
      ]
     },
     "metadata": {},
     "output_type": "display_data"
    }
   ],
   "source": [
    "displayPredictedTracks(tracks,predictedTracks, 1)"
   ]
  },
  {
   "cell_type": "code",
   "execution_count": 21,
   "metadata": {
    "collapsed": true
   },
   "outputs": [],
   "source": [
    "mu_x = 28.0064938099\n",
    "mu_y = 2.72131484714\n",
    "def mle_var(tracks, predTracks):\n",
    "    variances = {}\n",
    "    x = []\n",
    "    y = []\n",
    "    for (key, track) in tracks.items():\n",
    "        variances[key] = []\n",
    "        for j, point in enumerate(track):\n",
    "            x = ((point[0] - predictedTracks[key][j][0])**2)\n",
    "            y = ((point[1] - predictedTracks[key][j][1])**2)\n",
    "            variances[key].append((x,y))\n",
    "    return variances"
   ]
  },
  {
   "cell_type": "code",
   "execution_count": 22,
   "metadata": {
    "collapsed": true
   },
   "outputs": [],
   "source": [
    "vs = mle_var(tracks, predictedTracks)"
   ]
  },
  {
   "cell_type": "code",
   "execution_count": 23,
   "metadata": {
    "collapsed": false
   },
   "outputs": [
    {
     "data": {
      "text/plain": [
       "[(0.0, 0.0),\n",
       " (0.0, 0.0),\n",
       " (0.0, 0.0),\n",
       " (0.0032107292246169095, 0.6712348681099275),\n",
       " (0.68580779599035513, 1.2600218616160057),\n",
       " (0.066646532679107501, 0.85388158918321189),\n",
       " (0.069175925133314664, 0.96911214635041987),\n",
       " (0.070435062706205781, 0.98423321997403102),\n",
       " (0.071031549514651585, 0.99920627934758066),\n",
       " (0.28011419831059087, 0.41518689511761636)]"
      ]
     },
     "execution_count": 23,
     "metadata": {},
     "output_type": "execute_result"
    }
   ],
   "source": [
    "vs.items()[0][1][:10]\n"
   ]
  },
  {
   "cell_type": "code",
   "execution_count": 41,
   "metadata": {
    "collapsed": false
   },
   "outputs": [],
   "source": [
    "def buildVarDataset(tracks, predTracks, variance, lookback=3):\n",
    "    dataset = []\n",
    "    for key, track in tracks.items():\n",
    "        for i, pos in enumerate(track):\n",
    "            if i < lookback:\n",
    "                continue\n",
    "            gt = np.array(track[i-lookback:i]).ravel()\n",
    "            pred = np.array(predTracks[key][i])\n",
    "            var = np.array(variance[key][i])\n",
    "            row = np.concatenate((gt, pred, var))\n",
    "            dataset.append(row)\n",
    "    return dataset\n",
    "                \n",
    "dataset = buildVarDataset(tracks, predictedTracks, vs) \n",
    "dataset = np.array(dataset)\n",
    "# each row in the dataset is the x1, x2, y1, y2 \n",
    "# where x1, x2 are the coordinate of previous position and y1,y2 are \n",
    "# coordinates of the next position or the location that should be predicted\n",
    "\n"
   ]
  },
  {
   "cell_type": "code",
   "execution_count": 58,
   "metadata": {
    "collapsed": false
   },
   "outputs": [],
   "source": [
    "# np.set_printoptions(suppress=True)\n",
    "# plt.hist(dataset[:,8].clip(0,100))\n",
    "# plt.show()\n",
    "# plt.hist(dataset[:,9].clip(0,5))\n",
    "# plt.show()\n",
    "dataset[:,8] = dataset[:,8].clip(0,100)\n",
    "dataset[:,9] = dataset[:,9].clip(0,50)"
   ]
  },
  {
   "cell_type": "code",
   "execution_count": 59,
   "metadata": {
    "collapsed": false
   },
   "outputs": [
    {
     "name": "stdout",
     "output_type": "stream",
     "text": [
      "(17132, 8439)\n"
     ]
    },
    {
     "data": {
      "text/plain": [
       "(4, 2)"
      ]
     },
     "execution_count": 59,
     "metadata": {},
     "output_type": "execute_result"
    }
   ],
   "source": [
    "scaler = MinMaxScaler(feature_range=(0, 1))\n",
    "dataset = scaler.fit_transform(dataset)\n",
    "\n",
    "# Split into test and train\n",
    "train_size = int(len(dataset) * 0.67)\n",
    "test_size = len(dataset) - train_size\n",
    "train, test = dataset[0:train_size,:], dataset[train_size:len(dataset),:]\n",
    "print(len(train), len(test))\n",
    "\n",
    "xtrain = np.matrix(train[:,0:8])\n",
    "ytrain = np.matrix(train[:,8:])\n",
    "xtest = np.matrix(test[:,0:8])\n",
    "ytest = np.matrix(test[:,8:])\n",
    "\n",
    "# reshape input to be [samples, time steps, features]\n",
    "xtrain = np.reshape(np.array(xtrain), (xtrain.shape[0], 4, 2))\n",
    "xtest = np.reshape(np.array(xtest), (xtest.shape[0], 4, 2))\n",
    "\n",
    "xtrain[0].shape"
   ]
  },
  {
   "cell_type": "code",
   "execution_count": 60,
   "metadata": {
    "collapsed": false
   },
   "outputs": [],
   "source": [
    "import pickle\n",
    "with open('varscaler-big.pickle', 'w') as handle:\n",
    "    pickle.dump(scaler, handle)"
   ]
  },
  {
   "cell_type": "code",
   "execution_count": 48,
   "metadata": {
    "collapsed": false
   },
   "outputs": [
    {
     "data": {
      "image/png": "[encoded data removed]",
      "text/plain": [
       "<matplotlib.figure.Figure at 0x113f58f90>"
      ]
     },
     "metadata": {},
     "output_type": "display_data"
    },
    {
     "data": {
      "image/png": "[encoded data removed]",
      "text/plain": [
       "<matplotlib.figure.Figure at 0x113f740d0>"
      ]
     },
     "metadata": {},
     "output_type": "display_data"
    }
   ],
   "source": [
    "plt.hist(dataset[:,8].clip(0,25))\n",
    "plt.show()\n",
    "plt.hist(dataset[:,9].clip(0,50))\n",
    "plt.show()"
   ]
  },
  {
   "cell_type": "code",
   "execution_count": 61,
   "metadata": {
    "collapsed": false
   },
   "outputs": [],
   "source": [
    "# Train LSTM based on distances\n",
    "varmodel = Sequential()\n",
    "varmodel.add(LSTM(32, input_shape=(4,2)))\n",
    "varmodel.add(Dense(2))\n",
    "adam = keras.optimizers.Adam(lr=0.01)\n",
    "varmodel.compile(loss='mean_squared_error', optimizer='adam')\n",
    "varmodel.load_weights('cv-cov-weights17.h5')\n",
    "#varmodel.fit(xtrain, ytrain, nb_epoch=10, batch_size=1, verbose=2)"
   ]
  },
  {
   "cell_type": "code",
   "execution_count": 62,
   "metadata": {
    "collapsed": false
   },
   "outputs": [
    {
     "name": "stdout",
     "output_type": "stream",
     "text": [
      "Train Score: 12.0350625 RMSE\n",
      "Test Score: 10.5620819 RMSE\n"
     ]
    }
   ],
   "source": [
    "trainPredict = varmodel.predict(xtrain)\n",
    "testPredict = varmodel.predict(xtest)\n",
    "\n",
    "scaledYTrain = scaler.inverse_transform(np.concatenate((xtrain.reshape((xtrain.shape[0],8)),ytrain), axis=1))\n",
    "scaledYTest = scaler.inverse_transform(np.concatenate((xtest.reshape((xtest.shape[0],8)),ytest), axis=1))\n",
    "scaledPredictTrain = scaler.inverse_transform(np.concatenate((xtrain.reshape((xtrain.shape[0],8)),trainPredict), axis=1))\n",
    "scaledPredictTest = scaler.inverse_transform(np.concatenate((xtest.reshape((xtest.shape[0],8)),testPredict), axis=1))\n",
    "\n",
    "trainScore = math.sqrt(mean_squared_error(scaledPredictTrain[:,8:], scaledYTrain[:,8:]))\n",
    "print('Train Score: %.7f RMSE' % (trainScore))\n",
    "testScore = math.sqrt(mean_squared_error(scaledPredictTest[:,8:], scaledYTest[:,8:]))\n",
    "print('Test Score: %.7f RMSE' % (testScore))"
   ]
  },
  {
   "cell_type": "code",
   "execution_count": 63,
   "metadata": {
    "collapsed": false
   },
   "outputs": [
    {
     "name": "stdout",
     "output_type": "stream",
     "text": [
      "Train Score: 15.8114793 RMSE\n",
      "Test Score: 13.7176666 RMSE\n",
      "Train Score: 6.2994114 RMSE\n",
      "Test Score: 5.9110721 RMSE\n"
     ]
    }
   ],
   "source": [
    "trainScore = math.sqrt(mean_squared_error(scaledPredictTrain[:,8:9], scaledYTrain[:,8:9]))\n",
    "print('Train Score: %.7f RMSE' % (trainScore))\n",
    "testScore = math.sqrt(mean_squared_error(scaledPredictTest[:,8:9], scaledYTest[:,8:9]))\n",
    "print('Test Score: %.7f RMSE' % (testScore))\n",
    "trainScore = math.sqrt(mean_squared_error(scaledPredictTrain[:,9:], scaledYTrain[:,9:]))\n",
    "print('Train Score: %.7f RMSE' % (trainScore))\n",
    "testScore = math.sqrt(mean_squared_error(scaledPredictTest[:,9:], scaledYTest[:,9:]))\n",
    "print('Test Score: %.7f RMSE' % (testScore))"
   ]
  },
  {
   "cell_type": "code",
   "execution_count": 64,
   "metadata": {
    "collapsed": false
   },
   "outputs": [
    {
     "name": "stdout",
     "output_type": "stream",
     "text": [
      "[[   1.364423      8.74759421]\n",
      " [   1.21694362    2.50805669]\n",
      " [   1.54283267    6.25819144]\n",
      " [   1.8454276     7.28919039]\n",
      " [   0.45943719    5.13973381]\n",
      " [   1.13951413    7.04294211]\n",
      " [   1.64165592    7.68735586]\n",
      " [   0.00037584   50.        ]\n",
      " [   0.23308839   24.27647108]\n",
      " [   0.02172877   15.032684  ]\n",
      " [   2.09992126   27.57175882]\n",
      " [   2.53249721   22.26363919]\n",
      " [  18.48686198   50.        ]\n",
      " [  47.99929356   50.        ]\n",
      " [ 100.           18.75836022]\n",
      " [  43.99598364   37.27157625]\n",
      " [ 100.           43.520428  ]\n",
      " [  14.41643328   47.36757467]\n",
      " [  20.5018467    50.        ]\n",
      " [  13.30384314   10.168659  ]]\n",
      "[[  0.76729515   8.10243413]\n",
      " [  0.6281943    8.87538493]\n",
      " [  0.73548415   8.66248906]\n",
      " [  1.50325158   8.9857541 ]\n",
      " [  1.90626838   9.42569375]\n",
      " [  2.1944926    9.49809402]\n",
      " [  2.84963109   9.83953774]\n",
      " [  3.49904158  10.28626859]\n",
      " [  6.67393514  16.75448865]\n",
      " [ 13.01469512  24.63521957]\n",
      " [ 18.80172647  30.66572845]\n",
      " [ 28.03609377  36.39882505]\n",
      " [ 35.82101172  30.56291938]\n",
      " [ 46.60234754  15.68474174]\n",
      " [ 53.83644108   7.40524978]\n",
      " [ 59.63225964  43.29479635]\n",
      " [ 43.14589505  48.41161668]\n",
      " [ 33.64850288  48.07330966]\n",
      " [ 33.18263298  48.05649519]\n",
      " [ 23.55663783  15.61306715]]\n"
     ]
    }
   ],
   "source": [
    "np.set_printoptions(suppress=True)\n",
    "print scaledYTest[140:160,8:]\n",
    "print scaledPredictTest[140:160,8:]\n",
    " "
   ]
  },
  {
   "cell_type": "code",
   "execution_count": 33,
   "metadata": {
    "collapsed": true
   },
   "outputs": [],
   "source": [
    "#varmodel.save_weights('variance_32h_weights.h5')"
   ]
  },
  {
   "cell_type": "code",
   "execution_count": 68,
   "metadata": {
    "collapsed": false
   },
   "outputs": [
    {
     "name": "stdout",
     "output_type": "stream",
     "text": [
      "43\n",
      "-9.47068026282\n"
     ]
    }
   ],
   "source": [
    "print np.argmin(scaledPredictTest[:,8])\n",
    "print np.min(scaledPredictTest[:,8])"
   ]
  },
  {
   "cell_type": "code",
   "execution_count": 69,
   "metadata": {
    "collapsed": false
   },
   "outputs": [
    {
     "name": "stdout",
     "output_type": "stream",
     "text": [
      "[ 0.23777909  0.31898035  0.2578816   0.33509974  0.27719069  0.35221502\n",
      "  0.29035154  0.37177506  0.00304634  0.04779353]\n",
      "[-0.0947068   0.10324816]\n"
     ]
    }
   ],
   "source": [
    "np.set_printoptions(suppress=True)\n",
    "print dataset[trainPredict.shape[0]+43,:]\n",
    "print testPredict[43]"
   ]
  },
  {
   "cell_type": "code",
   "execution_count": 36,
   "metadata": {
    "collapsed": false
   },
   "outputs": [
    {
     "data": {
      "text/plain": [
       "array([[ 0.20565914,  0.08959736]])"
      ]
     },
     "execution_count": 36,
     "metadata": {},
     "output_type": "execute_result"
    }
   ],
   "source": [
    "varmodel.predict(dataset[777,:8].reshape(1,4,2))"
   ]
  },
  {
   "cell_type": "code",
   "execution_count": null,
   "metadata": {
    "collapsed": true
   },
   "outputs": [],
   "source": []
  }
 ],
 "metadata": {
  "kernelspec": {
   "display_name": "Python 2",
   "language": "python",
   "name": "python2"
  },
  "language_info": {
   "codemirror_mode": {
    "name": "ipython",
    "version": 2
   },
   "file_extension": ".py",
   "mimetype": "text/x-python",
   "name": "python",
   "nbconvert_exporter": "python",
   "pygments_lexer": "ipython2",
   "version": "2.7.11"
  }
 },
 "nbformat": 4,
 "nbformat_minor": 0
}
