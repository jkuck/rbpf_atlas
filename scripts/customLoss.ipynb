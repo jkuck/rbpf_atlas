{
 "cells": [
  {
   "cell_type": "code",
   "execution_count": 1,
   "metadata": {
    "collapsed": true
   },
   "outputs": [],
   "source": [
    "%matplotlib inline\n",
    "\n",
    "import matplotlib\n",
    "import numpy as np\n",
    "import matplotlib.pyplot as plt\n",
    "import json"
   ]
  },
  {
   "cell_type": "code",
   "execution_count": 2,
   "metadata": {
    "collapsed": true
   },
   "outputs": [],
   "source": [
    "tracks = json.load(open(\"../data/groundtruth_tracks.json\"))"
   ]
  },
  {
   "cell_type": "code",
   "execution_count": 3,
   "metadata": {
    "collapsed": false
   },
   "outputs": [
    {
     "data": {
      "image/png": "[encoded data removed]",
      "text/plain": [
       "<matplotlib.figure.Figure at 0x105e353d0>"
      ]
     },
     "metadata": {},
     "output_type": "display_data"
    }
   ],
   "source": [
    "def displayTracks(tracks, k):\n",
    "    for i in np.random.choice(len(tracks.items()), k):\n",
    "        track = np.array(tracks.items()[i][1])\n",
    "        plt.plot(track[0,0], -track[0,1], marker=\"x\")\n",
    "        plt.plot(track[:,0], -track[:,1], marker=\"o\")\n",
    "displayTracks(tracks, 5)"
   ]
  },
  {
   "cell_type": "code",
   "execution_count": 4,
   "metadata": {
    "collapsed": false
   },
   "outputs": [
    {
     "name": "stderr",
     "output_type": "stream",
     "text": [
      "Using Theano backend.\n"
     ]
    }
   ],
   "source": [
    "import pandas\n",
    "import math\n",
    "from keras.models import Sequential\n",
    "from keras.layers import Dense\n",
    "from keras.layers import LSTM\n",
    "from sklearn.preprocessing import MinMaxScaler\n",
    "from sklearn.metrics import mean_squared_error"
   ]
  },
  {
   "cell_type": "code",
   "execution_count": 5,
   "metadata": {
    "collapsed": false
   },
   "outputs": [],
   "source": [
    "np.random.seed(7)"
   ]
  },
  {
   "cell_type": "code",
   "execution_count": 6,
   "metadata": {
    "collapsed": false
   },
   "outputs": [],
   "source": [
    "def buildLookbackDataset(tracks, lookback=3):\n",
    "    lookback +=1\n",
    "    dataset = []\n",
    "    for key, track in tracks.items():\n",
    "        for i, pos in enumerate(track):\n",
    "            if i < lookback:\n",
    "                continue\n",
    "            dataset.append(np.array(track[i-lookback:i]).ravel())\n",
    "    return dataset\n",
    "                \n",
    "dataset = buildLookbackDataset(tracks) \n",
    "# each row in the dataset is the x1, x2, y1, y2 \n",
    "# where x1, x2 are the coordinate of previous position and y1,y2 are \n",
    "# coordinates of the next position or the location that should be predicted"
   ]
  },
  {
   "cell_type": "code",
   "execution_count": 7,
   "metadata": {
    "collapsed": false
   },
   "outputs": [],
   "source": [
    "# Ignore for now\n",
    "# dset = np.zeros((25002,8))\n",
    "# for i in xrange(25002):\n",
    "#     dset[i,:] = dataset[i]"
   ]
  },
  {
   "cell_type": "code",
   "execution_count": 8,
   "metadata": {
    "collapsed": false
   },
   "outputs": [],
   "source": [
    "scaler = MinMaxScaler(feature_range=(0, 1))\n",
    "dataset = scaler.fit_transform(dataset)"
   ]
  },
  {
   "cell_type": "code",
   "execution_count": 9,
   "metadata": {
    "collapsed": false
   },
   "outputs": [
    {
     "name": "stdout",
     "output_type": "stream",
     "text": [
      "(16751, 8251)\n"
     ]
    }
   ],
   "source": [
    "# Split into test and train\n",
    "train_size = int(len(dataset) * 0.67)\n",
    "test_size = len(dataset) - train_size\n",
    "train, test = dataset[0:train_size,:], dataset[train_size:len(dataset),:]\n",
    "print(len(train), len(test))"
   ]
  },
  {
   "cell_type": "code",
   "execution_count": 10,
   "metadata": {
    "collapsed": false
   },
   "outputs": [],
   "source": [
    "xtrain = np.matrix(train[:,0:6])\n",
    "ytrain = np.matrix(train[:,6:])\n",
    "xtest = np.matrix(test[:,0:6])\n",
    "ytest = np.matrix(test[:,6:])"
   ]
  },
  {
   "cell_type": "code",
   "execution_count": 11,
   "metadata": {
    "collapsed": false
   },
   "outputs": [],
   "source": [
    "# reshape input to be [samples, time steps, features]\n",
    "xtrain = np.reshape(np.array(xtrain), (xtrain.shape[0], 3, 2))\n",
    "xtest = np.reshape(np.array(xtest), (xtest.shape[0], 3, 2))"
   ]
  },
  {
   "cell_type": "code",
   "execution_count": 12,
   "metadata": {
    "collapsed": false
   },
   "outputs": [
    {
     "data": {
      "text/plain": [
       "(3, 2)"
      ]
     },
     "execution_count": 12,
     "metadata": {},
     "output_type": "execute_result"
    }
   ],
   "source": [
    "xtrain[0].shape\n"
   ]
  },
  {
   "cell_type": "code",
   "execution_count": 73,
   "metadata": {
    "collapsed": false
   },
   "outputs": [],
   "source": [
    "import os\n",
    "os.environ[\"THEANO_FLAGS\"] = 'optimizer=None,exception_verbosity=high'\n",
    "import theano\n",
    "reload(theano)\n",
    "import theano.tensor as T\n",
    "from theano import printing\n",
    "from theano.tensor.nlinalg import Det"
   ]
  },
  {
   "cell_type": "code",
   "execution_count": 101,
   "metadata": {
    "collapsed": true
   },
   "outputs": [],
   "source": [
    "def custom_objective(y_true, y_pred):\n",
    "    pred = y_pred[:,0:2].reshape((2,1))\n",
    "    cov = y_pred[:,2:6].reshape((2,2))\n",
    "    mu = y_true[:,0:2].reshape((2,1))\n",
    "    diff = pred - mu\n",
    "    dot1 = T.dot(diff.T, T.inv(abs(cov)))\n",
    "    dot2 = T.dot(dot1, diff)\n",
    "    tmp = -(dot2)/2\n",
    "    prob = T.exp(tmp)\n",
    "    det = Det()\n",
    "    prob = prob / T.sqr(det(2* np.pi * cov))\n",
    "    ret = -T.log(prob)\n",
    "    return prob"
   ]
  },
  {
   "cell_type": "code",
   "execution_count": 103,
   "metadata": {
    "collapsed": false
   },
   "outputs": [
    {
     "name": "stdout",
     "output_type": "stream",
     "text": [
      "Epoch 1/5\n",
      "22s - loss: 3.2130e-06\n",
      "Epoch 2/5\n",
      "22s - loss: 6.8138e-04\n",
      "Epoch 3/5\n",
      "21s - loss: 5.0410e-05\n",
      "Epoch 4/5\n",
      "23s - loss: 6.6326e-09\n",
      "Epoch 5/5\n",
      "21s - loss: 1.6236e-12\n"
     ]
    },
    {
     "data": {
      "text/plain": [
       "<keras.callbacks.History at 0x1367b0e10>"
      ]
     },
     "execution_count": 103,
     "metadata": {},
     "output_type": "execute_result"
    }
   ],
   "source": [
    "model = Sequential()\n",
    "model.add(LSTM(4, input_shape=(3,2)))\n",
    "model.add(Dense(6))\n",
    "model.compile(loss=custom_objective, optimizer='adam')\n",
    "model.fit(xtrain, ytrain, nb_epoch=5, batch_size=1, verbose=2)"
   ]
  },
  {
   "cell_type": "code",
   "execution_count": 104,
   "metadata": {
    "collapsed": false
   },
   "outputs": [
    {
     "name": "stdout",
     "output_type": "stream",
     "text": [
      "[[ 0.62446123  0.09930999]\n",
      " [ 0.62646688  0.09784558]\n",
      " [ 0.62939047  0.09337126]]\n",
      "[  0.44203278   0.38716668  -3.53306556  29.82113838 -25.98446465\n",
      "  -2.94223571]\n"
     ]
    }
   ],
   "source": [
    "print xtrain[0]\n",
    "print trainPredict[0]"
   ]
  },
  {
   "cell_type": "code",
   "execution_count": 105,
   "metadata": {
    "collapsed": false
   },
   "outputs": [
    {
     "name": "stdout",
     "output_type": "stream",
     "text": [
      "(16751, 6)\n"
     ]
    },
    {
     "ename": "ValueError",
     "evalue": "y_true and y_pred have different number of output (2!=6)",
     "output_type": "error",
     "traceback": [
      "\u001b[0;31m---------------------------------------------------------------------------\u001b[0m",
      "\u001b[0;31mValueError\u001b[0m                                Traceback (most recent call last)",
      "\u001b[0;32m<ipython-input-105-f4ec6a71f996>\u001b[0m in \u001b[0;36m<module>\u001b[0;34m()\u001b[0m\n\u001b[1;32m      9\u001b[0m \u001b[0;31m# calculate root mean squared error\u001b[0m\u001b[0;34m\u001b[0m\u001b[0;34m\u001b[0m\u001b[0m\n\u001b[1;32m     10\u001b[0m \u001b[0;34m\u001b[0m\u001b[0m\n\u001b[0;32m---> 11\u001b[0;31m \u001b[0mtrainScore\u001b[0m \u001b[0;34m=\u001b[0m \u001b[0mmath\u001b[0m\u001b[0;34m.\u001b[0m\u001b[0msqrt\u001b[0m\u001b[0;34m(\u001b[0m\u001b[0mmean_squared_error\u001b[0m\u001b[0;34m(\u001b[0m\u001b[0mytrain\u001b[0m\u001b[0;34m,\u001b[0m \u001b[0mtrainPredict\u001b[0m\u001b[0;34m)\u001b[0m\u001b[0;34m)\u001b[0m\u001b[0;34m\u001b[0m\u001b[0m\n\u001b[0m\u001b[1;32m     12\u001b[0m \u001b[0;32mprint\u001b[0m\u001b[0;34m(\u001b[0m\u001b[0;34m'Train Score: %.7f RMSE'\u001b[0m \u001b[0;34m%\u001b[0m \u001b[0;34m(\u001b[0m\u001b[0mtrainScore\u001b[0m\u001b[0;34m)\u001b[0m\u001b[0;34m)\u001b[0m\u001b[0;34m\u001b[0m\u001b[0m\n\u001b[1;32m     13\u001b[0m \u001b[0mtestScore\u001b[0m \u001b[0;34m=\u001b[0m \u001b[0mmath\u001b[0m\u001b[0;34m.\u001b[0m\u001b[0msqrt\u001b[0m\u001b[0;34m(\u001b[0m\u001b[0mmean_squared_error\u001b[0m\u001b[0;34m(\u001b[0m\u001b[0mytest\u001b[0m\u001b[0;34m,\u001b[0m \u001b[0mtestPredict\u001b[0m\u001b[0;34m)\u001b[0m\u001b[0;34m)\u001b[0m\u001b[0;34m\u001b[0m\u001b[0m\n",
      "\u001b[0;32m/Users/daniter/anaconda2/lib/python2.7/site-packages/sklearn/metrics/regression.pyc\u001b[0m in \u001b[0;36mmean_squared_error\u001b[0;34m(y_true, y_pred, sample_weight, multioutput)\u001b[0m\n\u001b[1;32m    229\u001b[0m     \"\"\"\n\u001b[1;32m    230\u001b[0m     y_type, y_true, y_pred, multioutput = _check_reg_targets(\n\u001b[0;32m--> 231\u001b[0;31m         y_true, y_pred, multioutput)\n\u001b[0m\u001b[1;32m    232\u001b[0m     output_errors = np.average((y_true - y_pred) ** 2, axis=0,\n\u001b[1;32m    233\u001b[0m                                weights=sample_weight)\n",
      "\u001b[0;32m/Users/daniter/anaconda2/lib/python2.7/site-packages/sklearn/metrics/regression.pyc\u001b[0m in \u001b[0;36m_check_reg_targets\u001b[0;34m(y_true, y_pred, multioutput)\u001b[0m\n\u001b[1;32m     84\u001b[0m     \u001b[0;32mif\u001b[0m \u001b[0my_true\u001b[0m\u001b[0;34m.\u001b[0m\u001b[0mshape\u001b[0m\u001b[0;34m[\u001b[0m\u001b[0;36m1\u001b[0m\u001b[0;34m]\u001b[0m \u001b[0;34m!=\u001b[0m \u001b[0my_pred\u001b[0m\u001b[0;34m.\u001b[0m\u001b[0mshape\u001b[0m\u001b[0;34m[\u001b[0m\u001b[0;36m1\u001b[0m\u001b[0;34m]\u001b[0m\u001b[0;34m:\u001b[0m\u001b[0;34m\u001b[0m\u001b[0m\n\u001b[1;32m     85\u001b[0m         raise ValueError(\"y_true and y_pred have different number of output \"\n\u001b[0;32m---> 86\u001b[0;31m                          \"({0}!={1})\".format(y_true.shape[1], y_pred.shape[1]))\n\u001b[0m\u001b[1;32m     87\u001b[0m \u001b[0;34m\u001b[0m\u001b[0m\n\u001b[1;32m     88\u001b[0m     \u001b[0mn_outputs\u001b[0m \u001b[0;34m=\u001b[0m \u001b[0my_true\u001b[0m\u001b[0;34m.\u001b[0m\u001b[0mshape\u001b[0m\u001b[0;34m[\u001b[0m\u001b[0;36m1\u001b[0m\u001b[0;34m]\u001b[0m\u001b[0;34m\u001b[0m\u001b[0m\n",
      "\u001b[0;31mValueError\u001b[0m: y_true and y_pred have different number of output (2!=6)"
     ]
    }
   ],
   "source": [
    "trainPredict = model.predict(xtrain)\n",
    "testPredict = model.predict(xtest)\n",
    "print trainPredict.shape\n",
    "# invert predictions\n",
    "#trainPredict = scaler.inverse_transform(np.concatenate((xtrain.reshape(xtrain.shape[0], xtrain.shape[2]),trainPredict), axis=1))[:,2:]\n",
    "#trainY = scaler.inverse_transform([trainY])\n",
    "#testPredict = scaler.inverse_transform(testPredict)\n",
    "#testY = scaler.inverse_transform([testY])\n",
    "# calculate root mean squared error\n",
    "\n",
    "trainScore = math.sqrt(mean_squared_error(ytrain, trainPredict))\n",
    "print('Train Score: %.7f RMSE' % (trainScore))\n",
    "testScore = math.sqrt(mean_squared_error(ytest, testPredict))\n",
    "print('Test Score: %.7f RMSE' % (testScore))"
   ]
  },
  {
   "cell_type": "code",
   "execution_count": 63,
   "metadata": {
    "collapsed": false
   },
   "outputs": [
    {
     "name": "stdout",
     "output_type": "stream",
     "text": [
      "Train Score: 5.0506726 RMSE\n",
      "Test Score: 4.9097064 RMSE\n",
      "(16751, 2)\n"
     ]
    }
   ],
   "source": [
    "scaledPredictTrain = scaler.inverse_transform(np.concatenate((ytrain,trainPredict,ytrain,trainPredict), axis=1))\n",
    "scaledPredictTest = scaler.inverse_transform(np.concatenate((ytest,testPredict,ytest,testPredict), axis=1))\n",
    "\n",
    "trainScore = math.sqrt(mean_squared_error(scaledPredictTrain[:,0:2], scaledPredictTrain[:,2:4]))\n",
    "print('Train Score: %.7f RMSE' % (trainScore))\n",
    "testScore = math.sqrt(mean_squared_error(scaledPredictTest[:,0:2], scaledPredictTest[:,2:4]))\n",
    "print('Test Score: %.7f RMSE' % (testScore))\n",
    "\n",
    "print ytrain.shape"
   ]
  },
  {
   "cell_type": "code",
   "execution_count": 18,
   "metadata": {
    "collapsed": false
   },
   "outputs": [
    {
     "name": "stdout",
     "output_type": "stream",
     "text": [
      "[777.654416, 165.681078]\n",
      "[781.156791, 165.186175]\n"
     ]
    }
   ],
   "source": [
    "#print model.predict(np.array(tracks.items()[0][1][0]).reshape(1,1,2))\n",
    "print tracks.items()[0][1][0]\n",
    "print tracks.items()[0][1][1]"
   ]
  },
  {
   "cell_type": "code",
   "execution_count": 19,
   "metadata": {
    "collapsed": false
   },
   "outputs": [
    {
     "name": "stdout",
     "output_type": "stream",
     "text": [
      "[[ 777.654416   165.681078   781.156791   165.186175   784.809185\n",
      "   164.670002   788.6214485  164.131158 ]]\n",
      "[[ 0.62446123  0.09930999  0.62646688  0.09784558  0.62939047  0.09337126\n",
      "   0.63313688  0.09231694]]\n"
     ]
    }
   ],
   "source": [
    "print np.array(tracks.items()[0][1][0]+tracks.items()[0][1][1]+tracks.items()[0][1][2]\\\n",
    "               +tracks.items()[0][1][3]).reshape(1,-1)\n",
    "orig_scale=np.array(tracks.items()[0][1][0]+tracks.items()[0][1][1]+tracks.items()[0][1][2]\\\n",
    "               +tracks.items()[0][1][3]).reshape(1,-1)\n",
    "l = scaler.transform(orig_scale)\n",
    "print l\n",
    "#x = l[0:2].reshape(1,1,2)\n",
    "#y = l[2:]"
   ]
  },
  {
   "cell_type": "code",
   "execution_count": 20,
   "metadata": {
    "collapsed": true
   },
   "outputs": [],
   "source": [
    "# Note this will predict the new point one frame ahead and build a track by \n",
    "# using measurements from the previous measurement.\n",
    "# The first prediction is exactly the first measurement\n",
    "# The last prediction is emitted because we know that the object is gone\n",
    "# but currently the model has no method for predicting the death of an object\n",
    "def rebuildTracks(tracks, model):\n",
    "    predTracks = {}\n",
    "    for track in tracks.items():\n",
    "        predTracks[track[0]] = []\n",
    "        t = predTracks[track[0]]\n",
    "        for i, pos in enumerate(track[1]):\n",
    "            if i < 3:\n",
    "                t.append(pos)\n",
    "            else:\n",
    "                # scale and resize\n",
    "                p1 = track[1][i-3]\n",
    "                p2 = track[1][i-2]\n",
    "                p3 = track[1][i-1]\n",
    "                p = scaler.transform(np.array(p1+p2+p3+p3).reshape(1,-1))[0][0:6].reshape(1,3,2)\n",
    "                # predict\n",
    "                pred = model.predict(p).reshape(1,2).tolist()\n",
    "                pred = scaler.inverse_transform(np.array(pred[0]+pred[0]+pred[0]+pred[0])\\\n",
    "                                                .reshape(1,-1))[0][0:2]\n",
    "                t.append(pred)\n",
    "    return predTracks"
   ]
  },
  {
   "cell_type": "code",
   "execution_count": 21,
   "metadata": {
    "collapsed": false
   },
   "outputs": [],
   "source": [
    "predictedTracks = rebuildTracks(tracks,model)"
   ]
  },
  {
   "cell_type": "code",
   "execution_count": 22,
   "metadata": {
    "collapsed": true
   },
   "outputs": [],
   "source": [
    "def displayPredictedTracks(tracks,predictedTracks, k):\n",
    "    for i in np.random.choice(len(tracks.items()), k):\n",
    "        if i / float(len(tracks.items())) < .67:\n",
    "            print \"Training\"\n",
    "        else:\n",
    "            print \"Testing\"\n",
    "        print \"%d of %d\"% (i, len(tracks.items()))\n",
    "        key = tracks.items()[i][0]\n",
    "        track = np.array(tracks.items()[i][1])\n",
    "        t2 = np.array(predictedTracks[key])\n",
    "        plt.plot(track[0,0], -track[0,1], marker=\"x\")\n",
    "        plt.plot(track[:,0], -track[:,1], marker=\"o\", color='b')\n",
    "        plt.plot(t2[:,0], -t2[:,1], marker=\"s\", color='r')\n"
   ]
  },
  {
   "cell_type": "code",
   "execution_count": 64,
   "metadata": {
    "collapsed": false
   },
   "outputs": [
    {
     "name": "stdout",
     "output_type": "stream",
     "text": [
      "Training\n",
      "161 of 579\n"
     ]
    },
    {
     "data": {
      "image/png": "[encoded data removed]",
      "text/plain": [
       "<matplotlib.figure.Figure at 0x105e77fd0>"
      ]
     },
     "metadata": {},
     "output_type": "display_data"
    }
   ],
   "source": [
    "displayPredictedTracks(tracks,predictedTracks, 1)"
   ]
  },
  {
   "cell_type": "code",
   "execution_count": 49,
   "metadata": {
    "collapsed": false
   },
   "outputs": [],
   "source": [
    "def covariance(tracks, predTracks):\n",
    "    x = []\n",
    "    y = []\n",
    "    for (key, track) in tracks.items():\n",
    "        for j, point in enumerate(track):\n",
    "            x.append(point[0] - predictedTracks[key][j][0])\n",
    "            y.append(point[1] - predictedTracks[key][j][1])\n",
    "    x = np.matrix(x)\n",
    "    y = np.matrix(y)\n",
    "    m = np.concatenate((x,y), axis=0)\n",
    "    print np.var(x)\n",
    "    print np.var(y)\n",
    "    return np.cov(m)"
   ]
  },
  {
   "cell_type": "code",
   "execution_count": 50,
   "metadata": {
    "collapsed": false
   },
   "outputs": [
    {
     "name": "stdout",
     "output_type": "stream",
     "text": [
      "28.0064938099\n",
      "2.72131484714\n",
      "[[ 28.00751973  -0.93562177]\n",
      " [ -0.93562177   2.72141453]]\n"
     ]
    }
   ],
   "source": [
    "print covariance(tracks, predictedTracks)"
   ]
  }
 ],
 "metadata": {
  "kernelspec": {
   "display_name": "Python 2",
   "language": "python",
   "name": "python2"
  },
  "language_info": {
   "codemirror_mode": {
    "name": "ipython",
    "version": 2
   },
   "file_extension": ".py",
   "mimetype": "text/x-python",
   "name": "python",
   "nbconvert_exporter": "python",
   "pygments_lexer": "ipython2",
   "version": "2.7.12"
  }
 },
 "nbformat": 4,
 "nbformat_minor": 0
}
